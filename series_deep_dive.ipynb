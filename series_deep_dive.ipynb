{
 "cells": [
  {
   "cell_type": "markdown",
   "id": "694551ad-a706-4173-8993-2181401c518b",
   "metadata": {},
   "source": [
    "# Series Deep Dive\n",
    "\n",
    "### Import Libraries"
   ]
  },
  {
   "cell_type": "code",
   "execution_count": 1,
   "id": "13f2ffa7-558a-4a24-9a25-3b354104be64",
   "metadata": {},
   "outputs": [],
   "source": [
    "# Numerical Computing\n",
    "import numpy as np\n",
    "# Data Manipulation\n",
    "import pandas as pd\n",
    "# Data Visualization\n",
    "import matplotlib.pyplot as plt\n",
    "import seaborn as sns"
   ]
  },
  {
   "cell_type": "markdown",
   "id": "75176e2a-d852-4f2b-8b33-b8ceb125e553",
   "metadata": {},
   "source": [
    "#### Loading Data"
   ]
  },
  {
   "cell_type": "code",
   "execution_count": 2,
   "id": "a1dc966f-c955-4331-a5bf-6cddba8ff5b9",
   "metadata": {},
   "outputs": [],
   "source": [
    "file_path = '/Users/isisromero/desktop/effective_pandas/data/vehicles.csv'"
   ]
  },
  {
   "cell_type": "code",
   "execution_count": 3,
   "id": "7d152b9c-fc73-468d-8643-fbf5f6fdd273",
   "metadata": {},
   "outputs": [],
   "source": [
    "df = pd.read_csv(file_path, low_memory=False)"
   ]
  },
  {
   "cell_type": "code",
   "execution_count": 4,
   "id": "dee2a297-2a82-4d6a-b18a-353b8efb2785",
   "metadata": {},
   "outputs": [],
   "source": [
    "city_mpg = df.city08"
   ]
  },
  {
   "cell_type": "code",
   "execution_count": 5,
   "id": "4c78545a-8fde-45b3-8f63-e6439c3f5059",
   "metadata": {},
   "outputs": [],
   "source": [
    "highway_mpg = df.highway08"
   ]
  },
  {
   "cell_type": "code",
   "execution_count": 6,
   "id": "31c918f1-ab2d-405b-a18c-683f05757766",
   "metadata": {},
   "outputs": [
    {
     "data": {
      "text/plain": [
       "0        19\n",
       "1         9\n",
       "2        23\n",
       "3        10\n",
       "4        17\n",
       "         ..\n",
       "41139    19\n",
       "41140    20\n",
       "41141    18\n",
       "41142    18\n",
       "41143    16\n",
       "Name: city08, Length: 41144, dtype: int64"
      ]
     },
     "execution_count": 6,
     "metadata": {},
     "output_type": "execute_result"
    }
   ],
   "source": [
    "city_mpg"
   ]
  },
  {
   "cell_type": "code",
   "execution_count": 7,
   "id": "152161dd-96cd-49e4-8009-c6f30dbee125",
   "metadata": {},
   "outputs": [
    {
     "data": {
      "text/plain": [
       "0        25\n",
       "1        14\n",
       "2        33\n",
       "3        12\n",
       "4        23\n",
       "         ..\n",
       "41139    26\n",
       "41140    28\n",
       "41141    24\n",
       "41142    24\n",
       "41143    21\n",
       "Name: highway08, Length: 41144, dtype: int64"
      ]
     },
     "execution_count": 7,
     "metadata": {},
     "output_type": "execute_result"
    }
   ],
   "source": [
    "highway_mpg"
   ]
  },
  {
   "cell_type": "markdown",
   "id": "3724e5d2-fa34-4364-b827-b62dcd6ff6bd",
   "metadata": {},
   "source": [
    "#### Series Attributes"
   ]
  },
  {
   "cell_type": "code",
   "execution_count": 8,
   "id": "65c5f93a-59a6-4487-b3ce-111bbeb2947a",
   "metadata": {},
   "outputs": [
    {
     "data": {
      "text/plain": [
       "418"
      ]
     },
     "execution_count": 8,
     "metadata": {},
     "output_type": "execute_result"
    }
   ],
   "source": [
    "len(dir(city_mpg))"
   ]
  },
  {
   "cell_type": "markdown",
   "id": "eaf49f4d-3200-4514-a206-cfeca5d16dd6",
   "metadata": {},
   "source": [
    "## Operators (& Dunder Methods)\n",
    "\n",
    "#### Dunder Methods"
   ]
  },
  {
   "cell_type": "code",
   "execution_count": 9,
   "id": "71e7762f-c78a-40e1-a834-4efc88c794fb",
   "metadata": {},
   "outputs": [
    {
     "data": {
      "text/plain": [
       "6"
      ]
     },
     "execution_count": 9,
     "metadata": {},
     "output_type": "execute_result"
    }
   ],
   "source": [
    "2 + 4"
   ]
  },
  {
   "cell_type": "code",
   "execution_count": 10,
   "id": "cfdea796-5419-4b5b-842b-2a65238cff66",
   "metadata": {},
   "outputs": [
    {
     "data": {
      "text/plain": [
       "0        22.0\n",
       "1        11.5\n",
       "2        28.0\n",
       "3        11.0\n",
       "4        20.0\n",
       "         ... \n",
       "41139    22.5\n",
       "41140    24.0\n",
       "41141    21.0\n",
       "41142    21.0\n",
       "41143    18.5\n",
       "Length: 41144, dtype: float64"
      ]
     },
     "execution_count": 10,
     "metadata": {},
     "output_type": "execute_result"
    }
   ],
   "source": [
    "(city_mpg + highway_mpg) / 2"
   ]
  },
  {
   "cell_type": "markdown",
   "id": "9fe39eb7-612c-4b51-8e59-0682dfc342b5",
   "metadata": {},
   "source": [
    "#### Index Alignment"
   ]
  },
  {
   "cell_type": "code",
   "execution_count": 11,
   "id": "3400a963-92a1-4032-ad16-2ec0d6fe2785",
   "metadata": {},
   "outputs": [],
   "source": [
    "s1 = pd.Series([10, 20, 30], index=[1, 2, 2])"
   ]
  },
  {
   "cell_type": "code",
   "execution_count": 12,
   "id": "c62a3194-34ec-44fc-a570-95e7ebe6fa90",
   "metadata": {},
   "outputs": [],
   "source": [
    "s2 = pd.Series([35, 44, 53], index=[2, 2, 4], name='s2')"
   ]
  },
  {
   "cell_type": "code",
   "execution_count": 13,
   "id": "140ac4fd-fb4f-422a-8c6e-40456afec1ab",
   "metadata": {},
   "outputs": [
    {
     "data": {
      "text/plain": [
       "1    10\n",
       "2    20\n",
       "2    30\n",
       "dtype: int64"
      ]
     },
     "execution_count": 13,
     "metadata": {},
     "output_type": "execute_result"
    }
   ],
   "source": [
    "s1"
   ]
  },
  {
   "cell_type": "code",
   "execution_count": 14,
   "id": "154f14aa-88c0-426f-98fe-cf95dfcb2791",
   "metadata": {},
   "outputs": [
    {
     "data": {
      "text/plain": [
       "2    35\n",
       "2    44\n",
       "4    53\n",
       "Name: s2, dtype: int64"
      ]
     },
     "execution_count": 14,
     "metadata": {},
     "output_type": "execute_result"
    }
   ],
   "source": [
    "s2"
   ]
  },
  {
   "cell_type": "code",
   "execution_count": 15,
   "id": "5c511252-65d1-4d46-91a9-d6435c8ef22c",
   "metadata": {},
   "outputs": [
    {
     "data": {
      "text/plain": [
       "1     NaN\n",
       "2    55.0\n",
       "2    64.0\n",
       "2    65.0\n",
       "2    74.0\n",
       "4     NaN\n",
       "dtype: float64"
      ]
     },
     "execution_count": 15,
     "metadata": {},
     "output_type": "execute_result"
    }
   ],
   "source": [
    "s1 + s2"
   ]
  },
  {
   "cell_type": "markdown",
   "id": "ddfe9365-0abe-4d94-be60-d129bd8cde4a",
   "metadata": {},
   "source": [
    "#### Iterationss"
   ]
  },
  {
   "cell_type": "code",
   "execution_count": 16,
   "id": "feb6624e-1e7c-4610-8ac2-2d2034bd4c14",
   "metadata": {},
   "outputs": [
    {
     "data": {
      "text/plain": [
       "1     NaN\n",
       "2    55.0\n",
       "2    64.0\n",
       "2    65.0\n",
       "2    74.0\n",
       "4     NaN\n",
       "dtype: float64"
      ]
     },
     "execution_count": 16,
     "metadata": {},
     "output_type": "execute_result"
    }
   ],
   "source": [
    "s1 + s2"
   ]
  },
  {
   "cell_type": "code",
   "execution_count": 17,
   "id": "e4624a71-b66a-4cca-81a1-65a85c45c5a9",
   "metadata": {},
   "outputs": [
    {
     "data": {
      "text/plain": [
       "1     NaN\n",
       "2    55.0\n",
       "2    64.0\n",
       "2    65.0\n",
       "2    74.0\n",
       "4     NaN\n",
       "dtype: float64"
      ]
     },
     "execution_count": 17,
     "metadata": {},
     "output_type": "execute_result"
    }
   ],
   "source": [
    "s1.add(s2)"
   ]
  },
  {
   "cell_type": "code",
   "execution_count": 18,
   "id": "b3e74118-f08e-4899-9399-34ea135559e0",
   "metadata": {},
   "outputs": [
    {
     "data": {
      "text/plain": [
       "1    10.0\n",
       "2    55.0\n",
       "2    64.0\n",
       "2    65.0\n",
       "2    74.0\n",
       "4    53.0\n",
       "dtype: float64"
      ]
     },
     "execution_count": 18,
     "metadata": {},
     "output_type": "execute_result"
    }
   ],
   "source": [
    "# Using fill_value\n",
    "s1.add(s2, fill_value=0)"
   ]
  },
  {
   "cell_type": "markdown",
   "id": "a2205c5d-6e7d-4ed1-9d63-f947fe4f6257",
   "metadata": {},
   "source": [
    "#### Chaining"
   ]
  },
  {
   "cell_type": "code",
   "execution_count": 20,
   "id": "5e43c324-e57e-4e30-b14e-c3cb476e60bc",
   "metadata": {},
   "outputs": [
    {
     "data": {
      "text/plain": [
       "0        22.0\n",
       "1        11.5\n",
       "2        28.0\n",
       "3        11.0\n",
       "4        20.0\n",
       "         ... \n",
       "41139    22.5\n",
       "41140    24.0\n",
       "41141    21.0\n",
       "41142    21.0\n",
       "41143    18.5\n",
       "Length: 41144, dtype: float64"
      ]
     },
     "execution_count": 20,
     "metadata": {},
     "output_type": "execute_result"
    }
   ],
   "source": [
    "((city_mpg +\n",
    " highway_mpg)\n",
    " / 2\n",
    ")"
   ]
  },
  {
   "cell_type": "code",
   "execution_count": 21,
   "id": "a6d2931d-99ef-4392-b600-2c00ce1f1144",
   "metadata": {},
   "outputs": [
    {
     "data": {
      "text/plain": [
       "0        22.0\n",
       "1        11.5\n",
       "2        28.0\n",
       "3        11.0\n",
       "4        20.0\n",
       "         ... \n",
       "41139    22.5\n",
       "41140    24.0\n",
       "41141    21.0\n",
       "41142    21.0\n",
       "41143    18.5\n",
       "Length: 41144, dtype: float64"
      ]
     },
     "execution_count": 21,
     "metadata": {},
     "output_type": "execute_result"
    }
   ],
   "source": [
    "# Chaining Example\n",
    "(city_mpg\n",
    "    .add(highway_mpg)\n",
    " .div(2)\n",
    ")"
   ]
  },
  {
   "cell_type": "markdown",
   "id": "5d2916d0-82d3-4f36-893c-e71c5bfe6227",
   "metadata": {},
   "source": [
    "## Aggregate Methods\n",
    "\n",
    "#### Aggregation"
   ]
  },
  {
   "cell_type": "code",
   "execution_count": 22,
   "id": "55e3a9f5-9ea1-4528-bfb3-2113ecd39ef2",
   "metadata": {},
   "outputs": [
    {
     "data": {
      "text/plain": [
       "18.369045304297103"
      ]
     },
     "execution_count": 22,
     "metadata": {},
     "output_type": "execute_result"
    }
   ],
   "source": [
    "# Mean\n",
    "city_mpg.mean()"
   ]
  },
  {
   "cell_type": "code",
   "execution_count": 23,
   "id": "449ef30a-700a-429f-b99d-e01ccdd5ebdd",
   "metadata": {},
   "outputs": [
    {
     "data": {
      "text/plain": [
       "False"
      ]
     },
     "execution_count": 23,
     "metadata": {},
     "output_type": "execute_result"
    }
   ],
   "source": [
    "city_mpg.is_unique"
   ]
  },
  {
   "cell_type": "code",
   "execution_count": 24,
   "id": "142fd351-9558-407e-a3c1-70091c32575b",
   "metadata": {},
   "outputs": [
    {
     "data": {
      "text/plain": [
       "False"
      ]
     },
     "execution_count": 24,
     "metadata": {},
     "output_type": "execute_result"
    }
   ],
   "source": [
    "city_mpg.is_monotonic_increasing"
   ]
  },
  {
   "cell_type": "code",
   "execution_count": 25,
   "id": "b3e73350-b6c0-417c-a527-0f52e8699857",
   "metadata": {},
   "outputs": [
    {
     "data": {
      "text/plain": [
       "17.0"
      ]
     },
     "execution_count": 25,
     "metadata": {},
     "output_type": "execute_result"
    }
   ],
   "source": [
    "city_mpg.quantile()"
   ]
  },
  {
   "cell_type": "code",
   "execution_count": 26,
   "id": "77b5494d-3492-43fb-9d4c-05358376de69",
   "metadata": {},
   "outputs": [
    {
     "data": {
      "text/plain": [
       "24.0"
      ]
     },
     "execution_count": 26,
     "metadata": {},
     "output_type": "execute_result"
    }
   ],
   "source": [
    "city_mpg.quantile(.9)"
   ]
  },
  {
   "cell_type": "code",
   "execution_count": 27,
   "id": "70996f89-0f8b-43ff-a5f0-3372004d9417",
   "metadata": {},
   "outputs": [
    {
     "data": {
      "text/plain": [
       "0.1    13.0\n",
       "0.5    17.0\n",
       "0.9    24.0\n",
       "Name: city08, dtype: float64"
      ]
     },
     "execution_count": 27,
     "metadata": {},
     "output_type": "execute_result"
    }
   ],
   "source": [
    "city_mpg.quantile([.1, .5, .9])"
   ]
  },
  {
   "cell_type": "markdown",
   "id": "d8bfc8e6-17f2-418f-94e3-38708a27ebb7",
   "metadata": {},
   "source": [
    "#### Count & Mean of an Attribute"
   ]
  },
  {
   "cell_type": "code",
   "execution_count": 28,
   "id": "06c912e6-d272-4d55-b7ce-9f591d0ab2f0",
   "metadata": {},
   "outputs": [
    {
     "data": {
      "text/plain": [
       "10272"
      ]
     },
     "execution_count": 28,
     "metadata": {},
     "output_type": "execute_result"
    }
   ],
   "source": [
    "(city_mpg\n",
    " .gt(20)\n",
    " .sum()    \n",
    ")"
   ]
  },
  {
   "cell_type": "code",
   "execution_count": 29,
   "id": "59dd9820-a104-49db-9288-ced6decbd0d4",
   "metadata": {},
   "outputs": [
    {
     "data": {
      "text/plain": [
       "24.965973167412017"
      ]
     },
     "execution_count": 29,
     "metadata": {},
     "output_type": "execute_result"
    }
   ],
   "source": [
    "(city_mpg\n",
    " .gt(20)\n",
    " .mul(100)\n",
    " .mean()\n",
    ")"
   ]
  },
  {
   "cell_type": "code",
   "execution_count": 30,
   "id": "94d72c1b-5fe5-45e6-a9c6-109ac8b07e42",
   "metadata": {},
   "outputs": [
    {
     "data": {
      "text/plain": [
       "18.369045304297103"
      ]
     },
     "execution_count": 30,
     "metadata": {},
     "output_type": "execute_result"
    }
   ],
   "source": [
    "city_mpg.agg('mean')"
   ]
  },
  {
   "cell_type": "code",
   "execution_count": 31,
   "id": "1333ab4e-5d38-4c45-8e90-541c67bd68a7",
   "metadata": {},
   "outputs": [],
   "source": [
    "def second_to_last(s):\n",
    "    return s.iloc[-2]"
   ]
  },
  {
   "cell_type": "code",
   "execution_count": 33,
   "id": "9a564b21-e5ab-4aef-b39d-7aa26ba3ce4b",
   "metadata": {},
   "outputs": [
    {
     "name": "stderr",
     "output_type": "stream",
     "text": [
      "/var/folders/wh/l_q69dcj75z0c82jy8ry71f40000gn/T/ipykernel_15197/2672993412.py:1: FutureWarning: The provided callable <function var at 0x7fd059e8c790> is currently using Series.var. In a future version of pandas, the provided callable will be used directly. To keep current behavior pass the string \"var\" instead.\n",
      "  city_mpg.agg(['mean', np.var, \"max\", second_to_last])\n"
     ]
    },
    {
     "data": {
      "text/plain": [
       "mean               18.369045\n",
       "var                62.503036\n",
       "max               150.000000\n",
       "second_to_last     18.000000\n",
       "Name: city08, dtype: float64"
      ]
     },
     "execution_count": 33,
     "metadata": {},
     "output_type": "execute_result"
    }
   ],
   "source": [
    "city_mpg.agg(['mean', np.var, \"max\", second_to_last])"
   ]
  },
  {
   "cell_type": "markdown",
   "id": "a58b79f6-2434-4caa-b2f7-d0c730548939",
   "metadata": {},
   "source": [
    "## Conversion Methods\n",
    "\n",
    "#### Automatic Conversion"
   ]
  },
  {
   "cell_type": "code",
   "execution_count": 34,
   "id": "f0197732-20a3-45c2-b2e2-77f9baec2ddb",
   "metadata": {},
   "outputs": [
    {
     "data": {
      "text/plain": [
       "0        19\n",
       "1         9\n",
       "2        23\n",
       "3        10\n",
       "4        17\n",
       "         ..\n",
       "41139    19\n",
       "41140    20\n",
       "41141    18\n",
       "41142    18\n",
       "41143    16\n",
       "Name: city08, Length: 41144, dtype: Int64"
      ]
     },
     "execution_count": 34,
     "metadata": {},
     "output_type": "execute_result"
    }
   ],
   "source": [
    "city_mpg.convert_dtypes()"
   ]
  },
  {
   "cell_type": "code",
   "execution_count": 35,
   "id": "ccd03101-7bac-4daa-8fcb-f20c6b987021",
   "metadata": {},
   "outputs": [
    {
     "data": {
      "text/plain": [
       "0        19\n",
       "1         9\n",
       "2        23\n",
       "3        10\n",
       "4        17\n",
       "         ..\n",
       "41139    19\n",
       "41140    20\n",
       "41141    18\n",
       "41142    18\n",
       "41143    16\n",
       "Name: city08, Length: 41144, dtype: Int16"
      ]
     },
     "execution_count": 35,
     "metadata": {},
     "output_type": "execute_result"
    }
   ],
   "source": [
    "city_mpg.astype('Int16')"
   ]
  },
  {
   "cell_type": "code",
   "execution_count": 37,
   "id": "f7f1d359-5af3-42f4-b637-2c25190d84b4",
   "metadata": {},
   "outputs": [],
   "source": [
    "# city_mpg.astype('Int8')"
   ]
  },
  {
   "cell_type": "code",
   "execution_count": 38,
   "id": "ef802703-0b90-4aeb-a746-6b5c38afcd9c",
   "metadata": {},
   "outputs": [
    {
     "data": {
      "text/plain": [
       "iinfo(min=-9223372036854775808, max=9223372036854775807, dtype=int64)"
      ]
     },
     "execution_count": 38,
     "metadata": {},
     "output_type": "execute_result"
    }
   ],
   "source": [
    "np.iinfo('int64')"
   ]
  },
  {
   "cell_type": "code",
   "execution_count": 39,
   "id": "4e311470-fd03-43a0-aee8-24956bcd1eb3",
   "metadata": {},
   "outputs": [
    {
     "data": {
      "text/plain": [
       "iinfo(min=-128, max=127, dtype=int8)"
      ]
     },
     "execution_count": 39,
     "metadata": {},
     "output_type": "execute_result"
    }
   ],
   "source": [
    "np.iinfo('int8')"
   ]
  },
  {
   "cell_type": "code",
   "execution_count": 41,
   "id": "07aa9bce-0ff6-4e8d-a80c-9c4114400320",
   "metadata": {},
   "outputs": [
    {
     "data": {
      "text/plain": [
       "finfo(resolution=0.001, min=-6.55040e+04, max=6.55040e+04, dtype=float16)"
      ]
     },
     "execution_count": 41,
     "metadata": {},
     "output_type": "execute_result"
    }
   ],
   "source": [
    "np.finfo('float16')"
   ]
  },
  {
   "cell_type": "code",
   "execution_count": 42,
   "id": "ab3da58b-a0e0-4226-aa8e-f587bb0503da",
   "metadata": {},
   "outputs": [
    {
     "data": {
      "text/plain": [
       "finfo(resolution=1e-15, min=-1.7976931348623157e+308, max=1.7976931348623157e+308, dtype=float64)"
      ]
     },
     "execution_count": 42,
     "metadata": {},
     "output_type": "execute_result"
    }
   ],
   "source": [
    "np.finfo('float64')"
   ]
  },
  {
   "cell_type": "markdown",
   "id": "d8b7aa3a-6cca-4cc9-a4ca-12f3b3201840",
   "metadata": {},
   "source": [
    "#### Memory Usage"
   ]
  },
  {
   "cell_type": "code",
   "execution_count": 43,
   "id": "348944f2-9679-41a1-9631-4631c16e894b",
   "metadata": {},
   "outputs": [
    {
     "data": {
      "text/plain": [
       "329152"
      ]
     },
     "execution_count": 43,
     "metadata": {},
     "output_type": "execute_result"
    }
   ],
   "source": [
    "city_mpg.nbytes"
   ]
  },
  {
   "cell_type": "code",
   "execution_count": 44,
   "id": "360e5587-21fe-4562-b193-8353868aad84",
   "metadata": {},
   "outputs": [
    {
     "data": {
      "text/plain": [
       "123432"
      ]
     },
     "execution_count": 44,
     "metadata": {},
     "output_type": "execute_result"
    }
   ],
   "source": [
    "city_mpg.astype('Int16').nbytes"
   ]
  },
  {
   "cell_type": "code",
   "execution_count": 45,
   "id": "e1cb2047-e1e8-45a9-9ed6-d242620df305",
   "metadata": {},
   "outputs": [],
   "source": [
    "make = df.make"
   ]
  },
  {
   "cell_type": "code",
   "execution_count": 46,
   "id": "d17e9487-5b28-4dcc-8e0e-841dac4c9de0",
   "metadata": {},
   "outputs": [
    {
     "data": {
      "text/plain": [
       "329152"
      ]
     },
     "execution_count": 46,
     "metadata": {},
     "output_type": "execute_result"
    }
   ],
   "source": [
    "make.nbytes"
   ]
  },
  {
   "cell_type": "code",
   "execution_count": 47,
   "id": "5e099a2f-931a-43c1-bb1d-edafc57af4a4",
   "metadata": {},
   "outputs": [
    {
     "data": {
      "text/plain": [
       "329280"
      ]
     },
     "execution_count": 47,
     "metadata": {},
     "output_type": "execute_result"
    }
   ],
   "source": [
    "make.memory_usage()"
   ]
  },
  {
   "cell_type": "code",
   "execution_count": 48,
   "id": "4dc1e7e6-4c69-4e93-8bad-f4ba5d120c25",
   "metadata": {},
   "outputs": [
    {
     "data": {
      "text/plain": [
       "2606395"
      ]
     },
     "execution_count": 48,
     "metadata": {},
     "output_type": "execute_result"
    }
   ],
   "source": [
    "make.memory_usage(deep=True)"
   ]
  },
  {
   "cell_type": "code",
   "execution_count": 49,
   "id": "d36e811b-e987-4887-9e02-66b624def80f",
   "metadata": {},
   "outputs": [
    {
     "data": {
      "text/plain": [
       "95888"
      ]
     },
     "execution_count": 49,
     "metadata": {},
     "output_type": "execute_result"
    }
   ],
   "source": [
    "(make\n",
    " .astype('category')\n",
    " .memory_usage(deep=True)\n",
    ")"
   ]
  },
  {
   "cell_type": "markdown",
   "id": "a90ec0c6-7a42-42ee-86bc-6c93ddb55bb8",
   "metadata": {},
   "source": [
    "#### Strings & Category Types"
   ]
  },
  {
   "cell_type": "code",
   "execution_count": 50,
   "id": "8a8605c3-e1b7-4e76-ae28-1d8fb05dc534",
   "metadata": {},
   "outputs": [
    {
     "data": {
      "text/plain": [
       "0        19\n",
       "1         9\n",
       "2        23\n",
       "3        10\n",
       "4        17\n",
       "         ..\n",
       "41139    19\n",
       "41140    20\n",
       "41141    18\n",
       "41142    18\n",
       "41143    16\n",
       "Name: city08, Length: 41144, dtype: object"
      ]
     },
     "execution_count": 50,
     "metadata": {},
     "output_type": "execute_result"
    }
   ],
   "source": [
    "city_mpg.astype(str)"
   ]
  },
  {
   "cell_type": "code",
   "execution_count": 51,
   "id": "663bf2ee-a80c-4283-a9b7-c76ad7888471",
   "metadata": {},
   "outputs": [
    {
     "data": {
      "text/plain": [
       "0        19\n",
       "1         9\n",
       "2        23\n",
       "3        10\n",
       "4        17\n",
       "         ..\n",
       "41139    19\n",
       "41140    20\n",
       "41141    18\n",
       "41142    18\n",
       "41143    16\n",
       "Name: city08, Length: 41144, dtype: category\n",
       "Categories (105, int64): [6, 7, 8, 9, ..., 137, 138, 140, 150]"
      ]
     },
     "execution_count": 51,
     "metadata": {},
     "output_type": "execute_result"
    }
   ],
   "source": [
    "city_mpg.astype('category')"
   ]
  },
  {
   "cell_type": "markdown",
   "id": "6164bb9a-b3b1-4217-90f6-f379a0c81dcf",
   "metadata": {},
   "source": [
    "#### Ordered Categories"
   ]
  },
  {
   "cell_type": "code",
   "execution_count": 52,
   "id": "a514fb75-83c2-4267-8355-0d8314b44174",
   "metadata": {},
   "outputs": [],
   "source": [
    "values = pd.Series(sorted(set(city_mpg)))"
   ]
  },
  {
   "cell_type": "code",
   "execution_count": 53,
   "id": "562eff35-ae10-49e8-8cf3-09f4251fc9c2",
   "metadata": {},
   "outputs": [],
   "source": [
    "city_type = pd.CategoricalDtype(categories=values,\n",
    "                                ordered=True)"
   ]
  },
  {
   "cell_type": "code",
   "execution_count": 54,
   "id": "70f04057-e8a7-4382-9f78-e35dd8e037b2",
   "metadata": {},
   "outputs": [
    {
     "data": {
      "text/plain": [
       "0        19\n",
       "1         9\n",
       "2        23\n",
       "3        10\n",
       "4        17\n",
       "         ..\n",
       "41139    19\n",
       "41140    20\n",
       "41141    18\n",
       "41142    18\n",
       "41143    16\n",
       "Name: city08, Length: 41144, dtype: category\n",
       "Categories (105, int64): [6 < 7 < 8 < 9 ... 137 < 138 < 140 < 150]"
      ]
     },
     "execution_count": 54,
     "metadata": {},
     "output_type": "execute_result"
    }
   ],
   "source": [
    "city_mpg.astype(city_type)"
   ]
  },
  {
   "cell_type": "markdown",
   "id": "0a8b4806-c205-406a-867d-bf073fdb53c1",
   "metadata": {},
   "source": [
    "#### Converting to Other Types"
   ]
  },
  {
   "cell_type": "code",
   "execution_count": 55,
   "id": "8c6c6dc2-fce5-4a3b-944e-924a1a4546de",
   "metadata": {},
   "outputs": [
    {
     "data": {
      "text/html": [
       "<div>\n",
       "<style scoped>\n",
       "    .dataframe tbody tr th:only-of-type {\n",
       "        vertical-align: middle;\n",
       "    }\n",
       "\n",
       "    .dataframe tbody tr th {\n",
       "        vertical-align: top;\n",
       "    }\n",
       "\n",
       "    .dataframe thead th {\n",
       "        text-align: right;\n",
       "    }\n",
       "</style>\n",
       "<table border=\"1\" class=\"dataframe\">\n",
       "  <thead>\n",
       "    <tr style=\"text-align: right;\">\n",
       "      <th></th>\n",
       "      <th>city08</th>\n",
       "    </tr>\n",
       "  </thead>\n",
       "  <tbody>\n",
       "    <tr>\n",
       "      <th>0</th>\n",
       "      <td>19</td>\n",
       "    </tr>\n",
       "    <tr>\n",
       "      <th>1</th>\n",
       "      <td>9</td>\n",
       "    </tr>\n",
       "    <tr>\n",
       "      <th>2</th>\n",
       "      <td>23</td>\n",
       "    </tr>\n",
       "    <tr>\n",
       "      <th>3</th>\n",
       "      <td>10</td>\n",
       "    </tr>\n",
       "    <tr>\n",
       "      <th>4</th>\n",
       "      <td>17</td>\n",
       "    </tr>\n",
       "    <tr>\n",
       "      <th>...</th>\n",
       "      <td>...</td>\n",
       "    </tr>\n",
       "    <tr>\n",
       "      <th>41139</th>\n",
       "      <td>19</td>\n",
       "    </tr>\n",
       "    <tr>\n",
       "      <th>41140</th>\n",
       "      <td>20</td>\n",
       "    </tr>\n",
       "    <tr>\n",
       "      <th>41141</th>\n",
       "      <td>18</td>\n",
       "    </tr>\n",
       "    <tr>\n",
       "      <th>41142</th>\n",
       "      <td>18</td>\n",
       "    </tr>\n",
       "    <tr>\n",
       "      <th>41143</th>\n",
       "      <td>16</td>\n",
       "    </tr>\n",
       "  </tbody>\n",
       "</table>\n",
       "<p>41144 rows × 1 columns</p>\n",
       "</div>"
      ],
      "text/plain": [
       "       city08\n",
       "0          19\n",
       "1           9\n",
       "2          23\n",
       "3          10\n",
       "4          17\n",
       "...       ...\n",
       "41139      19\n",
       "41140      20\n",
       "41141      18\n",
       "41142      18\n",
       "41143      16\n",
       "\n",
       "[41144 rows x 1 columns]"
      ]
     },
     "execution_count": 55,
     "metadata": {},
     "output_type": "execute_result"
    }
   ],
   "source": [
    "city_mpg.to_frame()"
   ]
  },
  {
   "cell_type": "markdown",
   "id": "f2e0c668-4dd2-40a8-b0fd-f8d426d2a217",
   "metadata": {},
   "source": [
    "## Manipulation Methods\n",
    "\n",
    "#### .apply & .where"
   ]
  },
  {
   "cell_type": "code",
   "execution_count": 61,
   "id": "bbc7bcc0-9f32-4a36-b693-4c32ac18acfd",
   "metadata": {},
   "outputs": [],
   "source": [
    "def gt20(val):\n",
    "    return val > 20%%timeit"
   ]
  },
  {
   "cell_type": "code",
   "execution_count": 62,
   "id": "e8bf0980-34a6-4e90-8136-ad5776ffa011",
   "metadata": {},
   "outputs": [
    {
     "name": "stdout",
     "output_type": "stream",
     "text": [
      "4.83 ms ± 73.4 µs per loop (mean ± std. dev. of 7 runs, 100 loops each)\n"
     ]
    }
   ],
   "source": [
    "%%timeit\n",
    "city_mpg.apply(gt20)"
   ]
  },
  {
   "cell_type": "code",
   "execution_count": 63,
   "id": "ecd0adc3-98e5-4ecd-8f65-77a5f53d886d",
   "metadata": {},
   "outputs": [
    {
     "name": "stdout",
     "output_type": "stream",
     "text": [
      "74.7 µs ± 3.37 µs per loop (mean ± std. dev. of 7 runs, 10,000 loops each)\n"
     ]
    }
   ],
   "source": [
    "%%timeit\n",
    "city_mpg.gt(20)"
   ]
  },
  {
   "cell_type": "code",
   "execution_count": 64,
   "id": "d058b03e-25c6-4866-add3-2cddb174cc87",
   "metadata": {},
   "outputs": [],
   "source": [
    "make = df.make"
   ]
  },
  {
   "cell_type": "code",
   "execution_count": 65,
   "id": "fa7b2502-b3e4-4b60-a773-f72118b6769a",
   "metadata": {},
   "outputs": [
    {
     "data": {
      "text/plain": [
       "0        Alfa Romeo\n",
       "1           Ferrari\n",
       "2             Dodge\n",
       "3             Dodge\n",
       "4            Subaru\n",
       "            ...    \n",
       "41139        Subaru\n",
       "41140        Subaru\n",
       "41141        Subaru\n",
       "41142        Subaru\n",
       "41143        Subaru\n",
       "Name: make, Length: 41144, dtype: object"
      ]
     },
     "execution_count": 65,
     "metadata": {},
     "output_type": "execute_result"
    }
   ],
   "source": [
    "make"
   ]
  },
  {
   "cell_type": "code",
   "execution_count": 66,
   "id": "404465a9-71bd-4095-af63-9a68baf4593a",
   "metadata": {},
   "outputs": [
    {
     "data": {
      "text/plain": [
       "make\n",
       "Chevrolet                           4003\n",
       "Ford                                3371\n",
       "Dodge                               2583\n",
       "GMC                                 2494\n",
       "Toyota                              2071\n",
       "                                    ... \n",
       "E. P. Dutton, Inc.                     1\n",
       "Fisker                                 1\n",
       "Panoz Auto-Development                 1\n",
       "Environmental Rsch and Devp Corp       1\n",
       "Grumman Allied Industries              1\n",
       "Name: count, Length: 136, dtype: int64"
      ]
     },
     "execution_count": 66,
     "metadata": {},
     "output_type": "execute_result"
    }
   ],
   "source": [
    "make.value_counts()"
   ]
  },
  {
   "cell_type": "code",
   "execution_count": 67,
   "id": "c727d573-addd-4b56-93bd-5e7e65e061e4",
   "metadata": {},
   "outputs": [],
   "source": [
    "top5 = make.value_counts().index[:5]"
   ]
  },
  {
   "cell_type": "code",
   "execution_count": 68,
   "id": "b306bba1-2eea-4543-b464-68cb6ae2a949",
   "metadata": {},
   "outputs": [],
   "source": [
    "def generalize_top5(val):\n",
    "    if val in top5:\n",
    "        return val\n",
    "    return 'Other'"
   ]
  },
  {
   "cell_type": "code",
   "execution_count": 69,
   "id": "6fca2ce7-2e7b-42a2-866c-3f13d1cf2e62",
   "metadata": {},
   "outputs": [
    {
     "data": {
      "text/plain": [
       "0        Other\n",
       "1        Other\n",
       "2        Dodge\n",
       "3        Dodge\n",
       "4        Other\n",
       "         ...  \n",
       "41139    Other\n",
       "41140    Other\n",
       "41141    Other\n",
       "41142    Other\n",
       "41143    Other\n",
       "Name: make, Length: 41144, dtype: object"
      ]
     },
     "execution_count": 69,
     "metadata": {},
     "output_type": "execute_result"
    }
   ],
   "source": [
    "make.apply(generalize_top5)"
   ]
  },
  {
   "cell_type": "code",
   "execution_count": 71,
   "id": "ac972457-fe10-48c9-9b79-3a6f00585eac",
   "metadata": {},
   "outputs": [
    {
     "data": {
      "text/plain": [
       "0        Other\n",
       "1        Other\n",
       "2        Dodge\n",
       "3        Dodge\n",
       "4        Other\n",
       "         ...  \n",
       "41139    Other\n",
       "41140    Other\n",
       "41141    Other\n",
       "41142    Other\n",
       "41143    Other\n",
       "Name: make, Length: 41144, dtype: object"
      ]
     },
     "execution_count": 71,
     "metadata": {},
     "output_type": "execute_result"
    }
   ],
   "source": [
    "# More Idiomatic approach\n",
    "make.where(make.isin(top5), other='Other')"
   ]
  },
  {
   "cell_type": "code",
   "execution_count": 73,
   "id": "ffb4a717-3125-4d45-98cf-7d2c8b9d015a",
   "metadata": {},
   "outputs": [
    {
     "name": "stdout",
     "output_type": "stream",
     "text": [
      "41.2 ms ± 7.14 ms per loop (mean ± std. dev. of 7 runs, 10 loops each)\n"
     ]
    }
   ],
   "source": [
    "%%timeit\n",
    "make.apply(generalize_top5)"
   ]
  },
  {
   "cell_type": "code",
   "execution_count": 75,
   "id": "e8ab7142-657a-4296-aa58-5fb701ff7e9a",
   "metadata": {},
   "outputs": [
    {
     "name": "stdout",
     "output_type": "stream",
     "text": [
      "2.53 ms ± 275 µs per loop (mean ± std. dev. of 7 runs, 100 loops each)\n"
     ]
    }
   ],
   "source": [
    "%%timeit\n",
    "make.where(make.isin(top5), 'Other')"
   ]
  },
  {
   "cell_type": "code",
   "execution_count": 76,
   "id": "adce18b0-969a-4929-9ee0-22ce43313a82",
   "metadata": {},
   "outputs": [
    {
     "data": {
      "text/plain": [
       "0        Other\n",
       "1        Other\n",
       "2        Dodge\n",
       "3        Dodge\n",
       "4        Other\n",
       "         ...  \n",
       "41139    Other\n",
       "41140    Other\n",
       "41141    Other\n",
       "41142    Other\n",
       "41143    Other\n",
       "Name: make, Length: 41144, dtype: object"
      ]
     },
     "execution_count": 76,
     "metadata": {},
     "output_type": "execute_result"
    }
   ],
   "source": [
    "# Mask complement version\n",
    "make.mask(~make.isin(top5), other='Other')"
   ]
  },
  {
   "cell_type": "markdown",
   "id": "023ade07-54e0-4270-b591-1e9e725ac72b",
   "metadata": {},
   "source": [
    "#### If Else with Pandas"
   ]
  },
  {
   "cell_type": "code",
   "execution_count": 77,
   "id": "78d4d87e-d72b-4bf2-9f27-58e54aaeca36",
   "metadata": {},
   "outputs": [],
   "source": [
    "vc = make.value_counts()"
   ]
  },
  {
   "cell_type": "code",
   "execution_count": 78,
   "id": "a5f96a1a-53f1-4065-abb2-c11cd67bcded",
   "metadata": {},
   "outputs": [],
   "source": [
    "top5 = vc.index[:5]\n",
    "top10 = vc.index[:10]"
   ]
  },
  {
   "cell_type": "code",
   "execution_count": 79,
   "id": "1047e27d-5304-4e1f-9722-5fc9136246c6",
   "metadata": {},
   "outputs": [],
   "source": [
    "def generalize(val):\n",
    "    if val in top5:\n",
    "        return val\n",
    "    elif val in top10:\n",
    "        return 'Top10'\n",
    "    else:\n",
    "        return 'Other'"
   ]
  },
  {
   "cell_type": "code",
   "execution_count": 80,
   "id": "d1325188-a8b3-4dea-a5b3-ae1be9da39ed",
   "metadata": {},
   "outputs": [
    {
     "data": {
      "text/plain": [
       "0        Other\n",
       "1        Other\n",
       "2        Dodge\n",
       "3        Dodge\n",
       "4        Other\n",
       "         ...  \n",
       "41139    Other\n",
       "41140    Other\n",
       "41141    Other\n",
       "41142    Other\n",
       "41143    Other\n",
       "Name: make, Length: 41144, dtype: object"
      ]
     },
     "execution_count": 80,
     "metadata": {},
     "output_type": "execute_result"
    }
   ],
   "source": [
    "make.apply(generalize)"
   ]
  },
  {
   "cell_type": "code",
   "execution_count": 81,
   "id": "5060d856-5b19-4f91-9437-67bbcd8a2d45",
   "metadata": {},
   "outputs": [
    {
     "data": {
      "text/plain": [
       "0        Other\n",
       "1        Other\n",
       "2        Dodge\n",
       "3        Dodge\n",
       "4        Other\n",
       "         ...  \n",
       "41139    Other\n",
       "41140    Other\n",
       "41141    Other\n",
       "41142    Other\n",
       "41143    Other\n",
       "Name: make, Length: 41144, dtype: object"
      ]
     },
     "execution_count": 81,
     "metadata": {},
     "output_type": "execute_result"
    }
   ],
   "source": [
    "(make\n",
    " .where(make.isin(top5), 'Top10')\n",
    " .where(make.isin(top10), 'Other')\n",
    ")"
   ]
  },
  {
   "cell_type": "code",
   "execution_count": 82,
   "id": "212fa936-e1b1-44ee-b777-2765e4a6d592",
   "metadata": {},
   "outputs": [
    {
     "data": {
      "text/plain": [
       "array(['Other', 'Other', 'Dodge', ..., 'Other', 'Other', 'Other'],\n",
       "      dtype=object)"
      ]
     },
     "execution_count": 82,
     "metadata": {},
     "output_type": "execute_result"
    }
   ],
   "source": [
    "# Numpy Approach\n",
    "np.select([make.isin(top5), make.isin(top10)],\n",
    "          [make, 'Top10'], 'Other')"
   ]
  },
  {
   "cell_type": "code",
   "execution_count": 83,
   "id": "eb9ef884-2431-494a-ac25-4226b56316e9",
   "metadata": {},
   "outputs": [
    {
     "data": {
      "text/plain": [
       "0        Other\n",
       "1        Other\n",
       "2        Dodge\n",
       "3        Dodge\n",
       "4        Other\n",
       "         ...  \n",
       "41139    Other\n",
       "41140    Other\n",
       "41141    Other\n",
       "41142    Other\n",
       "41143    Other\n",
       "Length: 41144, dtype: object"
      ]
     },
     "execution_count": 83,
     "metadata": {},
     "output_type": "execute_result"
    }
   ],
   "source": [
    "pd.Series(np.select([make.isin(top5), make.isin(top10)],\n",
    "                   [make, 'Top10'], 'Other'), index=make.index)"
   ]
  },
  {
   "cell_type": "markdown",
   "id": "1d164f4b-54b2-4ece-8a16-04626d9b944d",
   "metadata": {},
   "source": [
    "#### Mising Data"
   ]
  },
  {
   "cell_type": "code",
   "execution_count": 84,
   "id": "d288361c-dbca-420e-88ae-10c221664eb5",
   "metadata": {},
   "outputs": [],
   "source": [
    "cyl = df.cylinders"
   ]
  },
  {
   "cell_type": "code",
   "execution_count": 85,
   "id": "ba623506-ae84-4c17-a0e4-c67f10da8f29",
   "metadata": {},
   "outputs": [
    {
     "data": {
      "text/plain": [
       "206"
      ]
     },
     "execution_count": 85,
     "metadata": {},
     "output_type": "execute_result"
    }
   ],
   "source": [
    "(cyl\n",
    " .isna()\n",
    " .sum()\n",
    ")"
   ]
  },
  {
   "cell_type": "code",
   "execution_count": 86,
   "id": "1fd1b825-7389-4662-9dd0-62dc8bb63c2a",
   "metadata": {},
   "outputs": [],
   "source": [
    "missing = cyl.isna()"
   ]
  },
  {
   "cell_type": "code",
   "execution_count": 87,
   "id": "9230b2c6-8dbc-4b3b-8532-e827c5684f46",
   "metadata": {},
   "outputs": [
    {
     "data": {
      "text/plain": [
       "7138     Nissan\n",
       "7139     Toyota\n",
       "8143     Toyota\n",
       "8144       Ford\n",
       "8146       Ford\n",
       "          ...  \n",
       "34563     Tesla\n",
       "34564     Tesla\n",
       "34565     Tesla\n",
       "34566     Tesla\n",
       "34567     Tesla\n",
       "Name: make, Length: 206, dtype: object"
      ]
     },
     "execution_count": 87,
     "metadata": {},
     "output_type": "execute_result"
    }
   ],
   "source": [
    "make.loc[missing]"
   ]
  },
  {
   "cell_type": "markdown",
   "id": "295d0dab-e26a-4c3f-9917-ec45f0d9ff88",
   "metadata": {},
   "source": [
    "#### Filling in Missing Data"
   ]
  },
  {
   "cell_type": "code",
   "execution_count": 88,
   "id": "d50aeb9d-7949-4e9e-871b-653a36f0e6d2",
   "metadata": {},
   "outputs": [
    {
     "data": {
      "text/plain": [
       "7138    NaN\n",
       "7139    NaN\n",
       "8143    NaN\n",
       "8144    NaN\n",
       "8146    NaN\n",
       "         ..\n",
       "34563   NaN\n",
       "34564   NaN\n",
       "34565   NaN\n",
       "34566   NaN\n",
       "34567   NaN\n",
       "Name: cylinders, Length: 206, dtype: float64"
      ]
     },
     "execution_count": 88,
     "metadata": {},
     "output_type": "execute_result"
    }
   ],
   "source": [
    "cyl[cyl.isna()]"
   ]
  },
  {
   "cell_type": "code",
   "execution_count": 89,
   "id": "3741ea24-3e77-4a8b-a62e-4068f5c63e65",
   "metadata": {},
   "outputs": [
    {
     "data": {
      "text/plain": [
       "7136    6.0\n",
       "7137    6.0\n",
       "7138    0.0\n",
       "7139    0.0\n",
       "7140    6.0\n",
       "7141    6.0\n",
       "Name: cylinders, dtype: float64"
      ]
     },
     "execution_count": 89,
     "metadata": {},
     "output_type": "execute_result"
    }
   ],
   "source": [
    "cyl.fillna(0).loc[7136:7141]"
   ]
  },
  {
   "cell_type": "markdown",
   "id": "c1a6a7cc-1f27-4719-bfdd-34eb96fb4c0a",
   "metadata": {},
   "source": [
    "#### Interpolating Data"
   ]
  },
  {
   "cell_type": "code",
   "execution_count": 92,
   "id": "c2b2aded-b417-4ca9-af06-28a6b7f9ffc9",
   "metadata": {},
   "outputs": [
    {
     "data": {
      "text/plain": [
       "0    32.0\n",
       "1    40.0\n",
       "2     NaN\n",
       "3    42.0\n",
       "4    39.0\n",
       "5    32.0\n",
       "dtype: float64"
      ]
     },
     "execution_count": 92,
     "metadata": {},
     "output_type": "execute_result"
    }
   ],
   "source": [
    "temp = pd.Series([32, 40, None, 42, 39, 32])\n",
    "temp"
   ]
  },
  {
   "cell_type": "code",
   "execution_count": 93,
   "id": "8fd71341-dd95-4353-a838-a78198b16e92",
   "metadata": {},
   "outputs": [
    {
     "data": {
      "text/plain": [
       "0    32.0\n",
       "1    40.0\n",
       "2    41.0\n",
       "3    42.0\n",
       "4    39.0\n",
       "5    32.0\n",
       "dtype: float64"
      ]
     },
     "execution_count": 93,
     "metadata": {},
     "output_type": "execute_result"
    }
   ],
   "source": [
    "temp.interpolate()"
   ]
  },
  {
   "cell_type": "markdown",
   "id": "efebb87c-b222-4a14-b27c-4746d5115f76",
   "metadata": {},
   "source": [
    "#### Clipping Data"
   ]
  },
  {
   "cell_type": "code",
   "execution_count": 94,
   "id": "b3535ba2-1a2e-4f46-a1f9-2d6ab23f3973",
   "metadata": {},
   "outputs": [
    {
     "data": {
      "text/plain": [
       "0      19\n",
       "1       9\n",
       "2      23\n",
       "3      10\n",
       "4      17\n",
       "       ..\n",
       "442    15\n",
       "443    15\n",
       "444    15\n",
       "445    15\n",
       "446    31\n",
       "Name: city08, Length: 447, dtype: int64"
      ]
     },
     "execution_count": 94,
     "metadata": {},
     "output_type": "execute_result"
    }
   ],
   "source": [
    "city_mpg.loc[:446]"
   ]
  },
  {
   "cell_type": "code",
   "execution_count": 99,
   "id": "dda65deb-c96a-4ec1-a5eb-3b75806a1869",
   "metadata": {},
   "outputs": [
    {
     "data": {
      "text/plain": [
       "0      19\n",
       "1      11\n",
       "2      23\n",
       "3      11\n",
       "4      17\n",
       "       ..\n",
       "442    15\n",
       "443    15\n",
       "444    15\n",
       "445    15\n",
       "446    27\n",
       "Name: city08, Length: 447, dtype: int64"
      ]
     },
     "execution_count": 99,
     "metadata": {},
     "output_type": "execute_result"
    }
   ],
   "source": [
    "(city_mpg\n",
    " .loc[:446]\n",
    " .clip(lower=city_mpg.quantile(.05),\n",
    "      upper=city_mpg.quantile(.95))\n",
    ")"
   ]
  },
  {
   "cell_type": "code",
   "execution_count": 101,
   "id": "78286801-b5bc-440d-b903-4379c9056824",
   "metadata": {},
   "outputs": [],
   "source": [
    "# if upper is not None:\n",
    "#     subset = self.to_numpy() <= upper\n",
    "#     result = result.where(subset, upper)\n",
    "# if lower is not None:\n",
    "#     subset = sefl.to_numpy() >= lower\n",
    "#     result = result.where(subset, lower)"
   ]
  },
  {
   "cell_type": "markdown",
   "id": "ffb55e11-50f0-4e54-bcfd-c4f22e698dd0",
   "metadata": {},
   "source": [
    "#### Sorting values"
   ]
  },
  {
   "cell_type": "code",
   "execution_count": 104,
   "id": "7389a6d0-163a-4b99-bc67-727c5aa570cd",
   "metadata": {},
   "outputs": [
    {
     "data": {
      "text/plain": [
       "7901       6\n",
       "34557      6\n",
       "37161      6\n",
       "35887      6\n",
       "21060      6\n",
       "        ... \n",
       "25615    138\n",
       "34564    140\n",
       "33423    150\n",
       "31256    150\n",
       "32599    150\n",
       "Name: city08, Length: 41144, dtype: int64"
      ]
     },
     "execution_count": 104,
     "metadata": {},
     "output_type": "execute_result"
    }
   ],
   "source": [
    "city_mpg.sort_values()"
   ]
  },
  {
   "cell_type": "code",
   "execution_count": 105,
   "id": "2c38908f-fed8-4aa3-b24d-0968c7980670",
   "metadata": {},
   "outputs": [
    {
     "data": {
      "text/plain": [
       "0        22.0\n",
       "1        11.5\n",
       "2        28.0\n",
       "3        11.0\n",
       "4        20.0\n",
       "         ... \n",
       "41139    22.5\n",
       "41140    24.0\n",
       "41141    21.0\n",
       "41142    21.0\n",
       "41143    18.5\n",
       "Length: 41144, dtype: float64"
      ]
     },
     "execution_count": 105,
     "metadata": {},
     "output_type": "execute_result"
    }
   ],
   "source": [
    "(city_mpg.sort_values() + highway_mpg) / 2"
   ]
  },
  {
   "cell_type": "markdown",
   "id": "d4b1978f-f833-4a5d-9ad5-43b8352d8316",
   "metadata": {},
   "source": [
    "#### Sorting the Index"
   ]
  },
  {
   "cell_type": "code",
   "execution_count": 106,
   "id": "a1f32864-0eb2-4270-848c-df17caa5f655",
   "metadata": {},
   "outputs": [
    {
     "data": {
      "text/plain": [
       "0        19\n",
       "1         9\n",
       "2        23\n",
       "3        10\n",
       "4        17\n",
       "         ..\n",
       "41139    19\n",
       "41140    20\n",
       "41141    18\n",
       "41142    18\n",
       "41143    16\n",
       "Name: city08, Length: 41144, dtype: int64"
      ]
     },
     "execution_count": 106,
     "metadata": {},
     "output_type": "execute_result"
    }
   ],
   "source": [
    "city_mpg.sort_values().sort_index()"
   ]
  },
  {
   "cell_type": "markdown",
   "id": "59ef17ae-6db3-424b-93e8-dbeda8cdd34c",
   "metadata": {},
   "source": [
    "#### Dropping Duplicates"
   ]
  },
  {
   "cell_type": "code",
   "execution_count": 107,
   "id": "9c38b901-f9f0-4745-91b9-83ad9bce339c",
   "metadata": {},
   "outputs": [
    {
     "data": {
      "text/plain": [
       "0         19\n",
       "1          9\n",
       "2         23\n",
       "3         10\n",
       "4         17\n",
       "        ... \n",
       "34364    127\n",
       "34409    114\n",
       "34564    140\n",
       "34565    115\n",
       "34566    104\n",
       "Name: city08, Length: 105, dtype: int64"
      ]
     },
     "execution_count": 107,
     "metadata": {},
     "output_type": "execute_result"
    }
   ],
   "source": [
    "city_mpg.drop_duplicates()"
   ]
  },
  {
   "cell_type": "markdown",
   "id": "1c2cc55e-8098-49c7-8a8e-c1ad2e32319a",
   "metadata": {},
   "source": [
    "#### Ranking Data"
   ]
  },
  {
   "cell_type": "code",
   "execution_count": 108,
   "id": "2a99bca8-9c94-4392-af17-a6cb55c93db6",
   "metadata": {},
   "outputs": [
    {
     "data": {
      "text/plain": [
       "0        27060.5\n",
       "1          235.5\n",
       "2        35830.0\n",
       "3          607.5\n",
       "4        19484.0\n",
       "          ...   \n",
       "41139    27060.5\n",
       "41140    29719.5\n",
       "41141    23528.0\n",
       "41142    23528.0\n",
       "41143    15479.0\n",
       "Name: city08, Length: 41144, dtype: float64"
      ]
     },
     "execution_count": 108,
     "metadata": {},
     "output_type": "execute_result"
    }
   ],
   "source": [
    "city_mpg.rank()"
   ]
  },
  {
   "cell_type": "code",
   "execution_count": 109,
   "id": "2ac78c45-dbe7-456f-a741-48953f18c5bb",
   "metadata": {},
   "outputs": [
    {
     "data": {
      "text/plain": [
       "0        25555.0\n",
       "1          136.0\n",
       "2        35119.0\n",
       "3          336.0\n",
       "4        17467.0\n",
       "          ...   \n",
       "41139    25555.0\n",
       "41140    28567.0\n",
       "41141    21502.0\n",
       "41142    21502.0\n",
       "41143    13492.0\n",
       "Name: city08, Length: 41144, dtype: float64"
      ]
     },
     "execution_count": 109,
     "metadata": {},
     "output_type": "execute_result"
    }
   ],
   "source": [
    "city_mpg.rank(method='min')"
   ]
  },
  {
   "cell_type": "code",
   "execution_count": 110,
   "id": "f8814116-0776-4a03-8717-22bc09bf41fc",
   "metadata": {},
   "outputs": [
    {
     "data": {
      "text/plain": [
       "0        14.0\n",
       "1         4.0\n",
       "2        18.0\n",
       "3         5.0\n",
       "4        12.0\n",
       "         ... \n",
       "41139    14.0\n",
       "41140    15.0\n",
       "41141    13.0\n",
       "41142    13.0\n",
       "41143    11.0\n",
       "Name: city08, Length: 41144, dtype: float64"
      ]
     },
     "execution_count": 110,
     "metadata": {},
     "output_type": "execute_result"
    }
   ],
   "source": [
    "city_mpg.rank(method='dense')"
   ]
  },
  {
   "cell_type": "markdown",
   "id": "d0c022d8-d40e-4cac-a527-34db88e3234f",
   "metadata": {},
   "source": [
    "#### Replacing Data"
   ]
  },
  {
   "cell_type": "code",
   "execution_count": 111,
   "id": "4ffa81f6-2f91-4bf7-9579-c473032456b0",
   "metadata": {},
   "outputs": [
    {
     "data": {
      "text/plain": [
       "0        Alfa Romeo\n",
       "1           Ferrari\n",
       "2             Dodge\n",
       "3             Dodge\n",
       "4               スバル\n",
       "            ...    \n",
       "41139           スバル\n",
       "41140           スバル\n",
       "41141           スバル\n",
       "41142           スバル\n",
       "41143           スバル\n",
       "Name: make, Length: 41144, dtype: object"
      ]
     },
     "execution_count": 111,
     "metadata": {},
     "output_type": "execute_result"
    }
   ],
   "source": [
    "make.replace('Subaru', 'スバル')"
   ]
  },
  {
   "cell_type": "code",
   "execution_count": 113,
   "id": "2f670839-a3e6-45f9-a96a-4c4e1f373a6b",
   "metadata": {},
   "outputs": [
    {
     "data": {
      "text/plain": [
       "0          Alfa Romeo\n",
       "1        ri-other-Fer\n",
       "2               Dodge\n",
       "3               Dodge\n",
       "4              Subaru\n",
       "             ...     \n",
       "41139          Subaru\n",
       "41140          Subaru\n",
       "41141          Subaru\n",
       "41142          Subaru\n",
       "41143          Subaru\n",
       "Name: make, Length: 41144, dtype: object"
      ]
     },
     "execution_count": 113,
     "metadata": {},
     "output_type": "execute_result"
    }
   ],
   "source": [
    "make.replace(r'(Fer)ra(r.*)',\n",
    "value=r'\\2-other-\\1', regex=True)"
   ]
  },
  {
   "cell_type": "markdown",
   "id": "b2f96dd1-bf8a-4132-8c9f-f26bc68939d8",
   "metadata": {},
   "source": [
    "#### Binning Data"
   ]
  },
  {
   "cell_type": "code",
   "execution_count": 114,
   "id": "998cd80c-0e1e-46f1-97f3-3fa049474d4e",
   "metadata": {},
   "outputs": [
    {
     "data": {
      "text/plain": [
       "0        (5.856, 20.4]\n",
       "1        (5.856, 20.4]\n",
       "2         (20.4, 34.8]\n",
       "3        (5.856, 20.4]\n",
       "4        (5.856, 20.4]\n",
       "             ...      \n",
       "41139    (5.856, 20.4]\n",
       "41140    (5.856, 20.4]\n",
       "41141    (5.856, 20.4]\n",
       "41142    (5.856, 20.4]\n",
       "41143    (5.856, 20.4]\n",
       "Name: city08, Length: 41144, dtype: category\n",
       "Categories (10, interval[float64, right]): [(5.856, 20.4] < (20.4, 34.8] < (34.8, 49.2] < (49.2, 63.6] ... (92.4, 106.8] < (106.8, 121.2] < (121.2, 135.6] < (135.6, 150.0]]"
      ]
     },
     "execution_count": 114,
     "metadata": {},
     "output_type": "execute_result"
    }
   ],
   "source": [
    "pd.cut(city_mpg, 10)"
   ]
  },
  {
   "cell_type": "code",
   "execution_count": 115,
   "id": "413ceb80-ac37-4ece-925b-2d7c080ff2a2",
   "metadata": {},
   "outputs": [
    {
     "data": {
      "text/plain": [
       "0        (10, 20]\n",
       "1         (0, 10]\n",
       "2        (20, 40]\n",
       "3         (0, 10]\n",
       "4        (10, 20]\n",
       "           ...   \n",
       "41139    (10, 20]\n",
       "41140    (10, 20]\n",
       "41141    (10, 20]\n",
       "41142    (10, 20]\n",
       "41143    (10, 20]\n",
       "Name: city08, Length: 41144, dtype: category\n",
       "Categories (5, interval[int64, right]): [(0, 10] < (10, 20] < (20, 40] < (40, 70] < (70, 150]]"
      ]
     },
     "execution_count": 115,
     "metadata": {},
     "output_type": "execute_result"
    }
   ],
   "source": [
    "pd.cut(city_mpg, [0, 10, 20, 40, 70, 150])"
   ]
  },
  {
   "cell_type": "code",
   "execution_count": 117,
   "id": "b7e4e003-35aa-4839-991c-875e908dc712",
   "metadata": {},
   "outputs": [
    {
     "data": {
      "text/plain": [
       "0        (5.856, 20.4]\n",
       "1        (5.856, 20.4]\n",
       "2         (20.4, 34.8]\n",
       "3        (5.856, 20.4]\n",
       "4        (5.856, 20.4]\n",
       "             ...      \n",
       "41139    (5.856, 20.4]\n",
       "41140    (5.856, 20.4]\n",
       "41141    (5.856, 20.4]\n",
       "41142    (5.856, 20.4]\n",
       "41143    (5.856, 20.4]\n",
       "Name: city08, Length: 41144, dtype: category\n",
       "Categories (10, interval[float64, right]): [(5.856, 20.4] < (20.4, 34.8] < (34.8, 49.2] < (49.2, 63.6] ... (92.4, 106.8] < (106.8, 121.2] < (121.2, 135.6] < (135.6, 150.0]]"
      ]
     },
     "execution_count": 117,
     "metadata": {},
     "output_type": "execute_result"
    }
   ],
   "source": [
    "pd.cut(city_mpg, 10)"
   ]
  },
  {
   "cell_type": "code",
   "execution_count": 118,
   "id": "ceb9979d-6182-4ac4-b119-13b95c6f91e8",
   "metadata": {},
   "outputs": [
    {
     "data": {
      "text/plain": [
       "0        1\n",
       "1        1\n",
       "2        2\n",
       "3        1\n",
       "4        1\n",
       "        ..\n",
       "41139    1\n",
       "41140    1\n",
       "41141    1\n",
       "41142    1\n",
       "41143    1\n",
       "Name: city08, Length: 41144, dtype: category\n",
       "Categories (10, int64): [1 < 2 < 3 < 4 ... 7 < 8 < 9 < 10]"
      ]
     },
     "execution_count": 118,
     "metadata": {},
     "output_type": "execute_result"
    }
   ],
   "source": [
    "pd.cut(city_mpg, 10, labels=list(range(1, 11)))"
   ]
  },
  {
   "cell_type": "markdown",
   "id": "547af05d-1cfa-4738-8c05-edda727a27af",
   "metadata": {},
   "source": [
    "## Indexing Operations"
   ]
  },
  {
   "cell_type": "code",
   "execution_count": null,
   "id": "28179735-a99a-4307-80ac-f80222d54ccf",
   "metadata": {},
   "outputs": [],
   "source": []
  }
 ],
 "metadata": {
  "kernelspec": {
   "display_name": "Python 3 (ipykernel)",
   "language": "python",
   "name": "python3"
  },
  "language_info": {
   "codemirror_mode": {
    "name": "ipython",
    "version": 3
   },
   "file_extension": ".py",
   "mimetype": "text/x-python",
   "name": "python",
   "nbconvert_exporter": "python",
   "pygments_lexer": "ipython3",
   "version": "3.9.16"
  }
 },
 "nbformat": 4,
 "nbformat_minor": 5
}
