{
 "cells": [
  {
   "cell_type": "markdown",
   "id": "694551ad-a706-4173-8993-2181401c518b",
   "metadata": {},
   "source": [
    "# Series Deep Dive\n",
    "\n",
    "### Import Libraries"
   ]
  },
  {
   "cell_type": "code",
   "execution_count": 1,
   "id": "13f2ffa7-558a-4a24-9a25-3b354104be64",
   "metadata": {},
   "outputs": [],
   "source": [
    "# Numerical Computing\n",
    "import numpy as np\n",
    "# Data Manipulation\n",
    "import pandas as pd\n",
    "# Data Visualization\n",
    "import matplotlib.pyplot as plt\n",
    "import seaborn as sns"
   ]
  },
  {
   "cell_type": "markdown",
   "id": "75176e2a-d852-4f2b-8b33-b8ceb125e553",
   "metadata": {},
   "source": [
    "#### Loading Data"
   ]
  },
  {
   "cell_type": "code",
   "execution_count": 14,
   "id": "a1dc966f-c955-4331-a5bf-6cddba8ff5b9",
   "metadata": {},
   "outputs": [],
   "source": [
    "file_path = '/Users/isisromero/desktop/effective_pandas/data/vehicles.csv'"
   ]
  },
  {
   "cell_type": "code",
   "execution_count": 16,
   "id": "7d152b9c-fc73-468d-8643-fbf5f6fdd273",
   "metadata": {},
   "outputs": [],
   "source": [
    "df = pd.read_csv(file_path, low_memory=False)"
   ]
  },
  {
   "cell_type": "code",
   "execution_count": 17,
   "id": "dee2a297-2a82-4d6a-b18a-353b8efb2785",
   "metadata": {},
   "outputs": [],
   "source": [
    "city_mpg = df.city08"
   ]
  },
  {
   "cell_type": "code",
   "execution_count": 18,
   "id": "4c78545a-8fde-45b3-8f63-e6439c3f5059",
   "metadata": {},
   "outputs": [],
   "source": [
    "highway_mpg = df.highway08"
   ]
  },
  {
   "cell_type": "code",
   "execution_count": 19,
   "id": "31c918f1-ab2d-405b-a18c-683f05757766",
   "metadata": {},
   "outputs": [
    {
     "data": {
      "text/plain": [
       "0        19\n",
       "1         9\n",
       "2        23\n",
       "3        10\n",
       "4        17\n",
       "         ..\n",
       "41139    19\n",
       "41140    20\n",
       "41141    18\n",
       "41142    18\n",
       "41143    16\n",
       "Name: city08, Length: 41144, dtype: int64"
      ]
     },
     "execution_count": 19,
     "metadata": {},
     "output_type": "execute_result"
    }
   ],
   "source": [
    "city_mpg"
   ]
  },
  {
   "cell_type": "code",
   "execution_count": 20,
   "id": "152161dd-96cd-49e4-8009-c6f30dbee125",
   "metadata": {},
   "outputs": [
    {
     "data": {
      "text/plain": [
       "0        25\n",
       "1        14\n",
       "2        33\n",
       "3        12\n",
       "4        23\n",
       "         ..\n",
       "41139    26\n",
       "41140    28\n",
       "41141    24\n",
       "41142    24\n",
       "41143    21\n",
       "Name: highway08, Length: 41144, dtype: int64"
      ]
     },
     "execution_count": 20,
     "metadata": {},
     "output_type": "execute_result"
    }
   ],
   "source": [
    "highway_mpg"
   ]
  },
  {
   "cell_type": "markdown",
   "id": "3724e5d2-fa34-4364-b827-b62dcd6ff6bd",
   "metadata": {},
   "source": [
    "#### Series Attributes"
   ]
  },
  {
   "cell_type": "code",
   "execution_count": null,
   "id": "65c5f93a-59a6-4487-b3ce-111bbeb2947a",
   "metadata": {},
   "outputs": [],
   "source": []
  }
 ],
 "metadata": {
  "kernelspec": {
   "display_name": "Python 3 (ipykernel)",
   "language": "python",
   "name": "python3"
  },
  "language_info": {
   "codemirror_mode": {
    "name": "ipython",
    "version": 3
   },
   "file_extension": ".py",
   "mimetype": "text/x-python",
   "name": "python",
   "nbconvert_exporter": "python",
   "pygments_lexer": "ipython3",
   "version": "3.9.16"
  }
 },
 "nbformat": 4,
 "nbformat_minor": 5
}
