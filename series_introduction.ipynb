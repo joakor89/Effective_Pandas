{
 "cells": [
  {
   "cell_type": "markdown",
   "id": "c1dcceee-3dc6-4f6a-975c-f44a513b245a",
   "metadata": {},
   "source": [
    "# Effective Pandas: Series Introduction\n",
    "\n",
    "### Import Libraries"
   ]
  },
  {
   "cell_type": "code",
   "execution_count": 2,
   "id": "a73afe78-8c37-4af4-b1fc-5ab5dac731fd",
   "metadata": {},
   "outputs": [],
   "source": [
    "# Data Manipulation\n",
    "import pandas as pd\n",
    "# Numerical Computing\n",
    "import numpy as np\n",
    "# Data Visualization\n",
    "import matplotlib.pyplot as plt\n",
    "import seaborn as sns"
   ]
  },
  {
   "cell_type": "code",
   "execution_count": 3,
   "id": "a0b2dd0a-df27-4c94-a9cb-ff09c53fa5c9",
   "metadata": {},
   "outputs": [],
   "source": [
    "series = {\n",
    "    'index': [0, 1, 2, 3],\n",
    "    'data': [145, 142, 38, 13],\n",
    "    'name': 'songs'\n",
    "}"
   ]
  },
  {
   "cell_type": "code",
   "execution_count": 4,
   "id": "20f7fe0d-afa9-4ad9-8d14-8bdaffe1011c",
   "metadata": {},
   "outputs": [],
   "source": [
    "def get(series, idx):\n",
    "    value_idx = series['index'].index(idx)\n",
    "    return series['data'][value_idx]"
   ]
  },
  {
   "cell_type": "code",
   "execution_count": 5,
   "id": "70c72b22-95a0-4b74-a53b-bf947c10b211",
   "metadata": {},
   "outputs": [
    {
     "data": {
      "text/plain": [
       "142"
      ]
     },
     "execution_count": 5,
     "metadata": {},
     "output_type": "execute_result"
    }
   ],
   "source": [
    "get(series, 1)"
   ]
  },
  {
   "cell_type": "markdown",
   "id": "2275c81c-8226-4a83-9b73-a46973166db9",
   "metadata": {},
   "source": [
    "#### Index Abstraction"
   ]
  },
  {
   "cell_type": "code",
   "execution_count": 7,
   "id": "5f5696b8-18c6-433e-9c96-57faaba4b559",
   "metadata": {},
   "outputs": [],
   "source": [
    "songs = {\n",
    "    'index': ['Paul', 'John', 'George', 'Ringo'],\n",
    "    'data': [145, 142, 38, 13],\n",
    "    'name': 'counts'\n",
    "}"
   ]
  },
  {
   "cell_type": "code",
   "execution_count": 8,
   "id": "55bde735-65a3-441e-b4b8-d6815fb47a81",
   "metadata": {},
   "outputs": [
    {
     "data": {
      "text/plain": [
       "142"
      ]
     },
     "execution_count": 8,
     "metadata": {},
     "output_type": "execute_result"
    }
   ],
   "source": [
    "get(songs, 'John')"
   ]
  },
  {
   "cell_type": "markdown",
   "id": "6593b728-e66f-4c3a-8aa6-3ae6bbdd816f",
   "metadata": {},
   "source": [
    "#### The Pandas Series"
   ]
  },
  {
   "cell_type": "code",
   "execution_count": 9,
   "id": "1b6d41c9-1345-461f-98d6-67a893315b76",
   "metadata": {},
   "outputs": [],
   "source": [
    "songs2 = pd.Series([145, 142, 38, 13],\n",
    "                   name='counts'\n",
    "                  )"
   ]
  },
  {
   "cell_type": "code",
   "execution_count": 10,
   "id": "68a05de2-8225-49c2-8bc3-f3cee087d60c",
   "metadata": {},
   "outputs": [
    {
     "data": {
      "text/plain": [
       "0    145\n",
       "1    142\n",
       "2     38\n",
       "3     13\n",
       "Name: counts, dtype: int64"
      ]
     },
     "execution_count": 10,
     "metadata": {},
     "output_type": "execute_result"
    }
   ],
   "source": [
    "songs2"
   ]
  },
  {
   "cell_type": "code",
   "execution_count": 11,
   "id": "d6f1282e-646e-4884-9bda-74f6b713760c",
   "metadata": {},
   "outputs": [
    {
     "data": {
      "text/plain": [
       "RangeIndex(start=0, stop=4, step=1)"
      ]
     },
     "execution_count": 11,
     "metadata": {},
     "output_type": "execute_result"
    }
   ],
   "source": [
    "songs2.index"
   ]
  },
  {
   "cell_type": "code",
   "execution_count": 12,
   "id": "aa9d5957-22d0-46a2-bf26-029117362cc3",
   "metadata": {},
   "outputs": [],
   "source": [
    "songs3 = pd.Series([145, 142, 38, 13],\n",
    "                   name='counts',\n",
    "                   index=['Paul', 'John', 'George', 'Ringo']\n",
    "                  )"
   ]
  },
  {
   "cell_type": "code",
   "execution_count": 13,
   "id": "49ecbd18-ea61-41ec-913e-382dc7582070",
   "metadata": {},
   "outputs": [
    {
     "data": {
      "text/plain": [
       "Paul      145\n",
       "John      142\n",
       "George     38\n",
       "Ringo      13\n",
       "Name: counts, dtype: int64"
      ]
     },
     "execution_count": 13,
     "metadata": {},
     "output_type": "execute_result"
    }
   ],
   "source": [
    "songs3"
   ]
  },
  {
   "cell_type": "code",
   "execution_count": 14,
   "id": "26f684ef-8416-4efc-8f58-4cae25e058ba",
   "metadata": {},
   "outputs": [
    {
     "data": {
      "text/plain": [
       "Index(['Paul', 'John', 'George', 'Ringo'], dtype='object')"
      ]
     },
     "execution_count": 14,
     "metadata": {},
     "output_type": "execute_result"
    }
   ],
   "source": [
    "songs3.index"
   ]
  },
  {
   "cell_type": "code",
   "execution_count": 15,
   "id": "2984e3f0-8923-49d2-9d4d-4252d25ea4a0",
   "metadata": {},
   "outputs": [],
   "source": [
    "class Foo:\n",
    "    pass"
   ]
  },
  {
   "cell_type": "code",
   "execution_count": 16,
   "id": "3e32a3c5-4ce5-4ba4-8262-4d4227d33963",
   "metadata": {},
   "outputs": [],
   "source": [
    "ringo = pd.Series(\n",
    "    ['Richard', 'Starkey', 13, Foo()],\n",
    "    name='ringo')"
   ]
  },
  {
   "cell_type": "code",
   "execution_count": 17,
   "id": "325e2b3a-27d9-46a1-9e12-caa20f1cbf5a",
   "metadata": {},
   "outputs": [
    {
     "data": {
      "text/plain": [
       "0                                    Richard\n",
       "1                                    Starkey\n",
       "2                                         13\n",
       "3    <__main__.Foo object at 0x7fe24055a2e0>\n",
       "Name: ringo, dtype: object"
      ]
     },
     "execution_count": 17,
     "metadata": {},
     "output_type": "execute_result"
    }
   ],
   "source": [
    "ringo"
   ]
  },
  {
   "cell_type": "markdown",
   "id": "e297a576-9487-4323-9242-476a19ace14b",
   "metadata": {},
   "source": [
    "#### The NaN Value"
   ]
  },
  {
   "cell_type": "code",
   "execution_count": 18,
   "id": "0d3e0b6b-fc17-4987-b8f0-2041e62b2c13",
   "metadata": {},
   "outputs": [],
   "source": [
    "nan_series = pd.Series([2, np.nan],\n",
    "                       index=['Ono', 'Clapton'])"
   ]
  },
  {
   "cell_type": "code",
   "execution_count": 19,
   "id": "67fa6e86-8501-4669-bac4-7e6f70a5c03c",
   "metadata": {},
   "outputs": [
    {
     "data": {
      "text/plain": [
       "Ono        2.0\n",
       "Clapton    NaN\n",
       "dtype: float64"
      ]
     },
     "execution_count": 19,
     "metadata": {},
     "output_type": "execute_result"
    }
   ],
   "source": [
    "nan_series"
   ]
  },
  {
   "cell_type": "code",
   "execution_count": 20,
   "id": "6840a28e-d1a5-422f-926b-52d3d367ffa5",
   "metadata": {},
   "outputs": [
    {
     "data": {
      "text/plain": [
       "1"
      ]
     },
     "execution_count": 20,
     "metadata": {},
     "output_type": "execute_result"
    }
   ],
   "source": [
    "nan_series.count()"
   ]
  },
  {
   "cell_type": "code",
   "execution_count": 21,
   "id": "58e827bb-ddc5-4ac5-8dc9-9387d71f5669",
   "metadata": {},
   "outputs": [
    {
     "data": {
      "text/plain": [
       "2"
      ]
     },
     "execution_count": 21,
     "metadata": {},
     "output_type": "execute_result"
    }
   ],
   "source": [
    "nan_series.size"
   ]
  },
  {
   "cell_type": "markdown",
   "id": "78607a07-937d-4236-9ea4-617c2f69351a",
   "metadata": {},
   "source": [
    "#### Optional Integer Support for NaN"
   ]
  },
  {
   "cell_type": "code",
   "execution_count": 22,
   "id": "6399a006-9f75-4966-9f45-fe3d7018d2c7",
   "metadata": {},
   "outputs": [],
   "source": [
    "nan_series2 = pd.Series([2, None],\n",
    "                        index=['Ono', 'Clapton'],\n",
    "                        dtype='Int64')"
   ]
  },
  {
   "cell_type": "code",
   "execution_count": 23,
   "id": "fb62062b-0b4b-41f1-b042-bd259bc102d0",
   "metadata": {},
   "outputs": [
    {
     "data": {
      "text/plain": [
       "Ono           2\n",
       "Clapton    <NA>\n",
       "dtype: Int64"
      ]
     },
     "execution_count": 23,
     "metadata": {},
     "output_type": "execute_result"
    }
   ],
   "source": [
    "nan_series2"
   ]
  },
  {
   "cell_type": "code",
   "execution_count": 24,
   "id": "b4a94e1f-9fa0-4ac0-b79f-63ec9f978ec7",
   "metadata": {},
   "outputs": [
    {
     "data": {
      "text/plain": [
       "1"
      ]
     },
     "execution_count": 24,
     "metadata": {},
     "output_type": "execute_result"
    }
   ],
   "source": [
    "nan_series2.count()"
   ]
  },
  {
   "cell_type": "code",
   "execution_count": 27,
   "id": "ac06146e-7f71-44a8-9a77-c624de6a0875",
   "metadata": {},
   "outputs": [
    {
     "data": {
      "text/plain": [
       "Ono           2\n",
       "Clapton    <NA>\n",
       "dtype: Int64"
      ]
     },
     "execution_count": 27,
     "metadata": {},
     "output_type": "execute_result"
    }
   ],
   "source": [
    "nan_series.astype('Int64')"
   ]
  },
  {
   "cell_type": "markdown",
   "id": "f4dc7246-056b-494d-b519-52bc5a34b16a",
   "metadata": {},
   "source": [
    "#### Similar to NumPy"
   ]
  },
  {
   "cell_type": "code",
   "execution_count": 28,
   "id": "c7bdd80f-bd70-4d48-8679-a983c1f3b96a",
   "metadata": {},
   "outputs": [],
   "source": [
    "numpy_ser = np.array([145, 142, 38, 13])"
   ]
  },
  {
   "cell_type": "code",
   "execution_count": 30,
   "id": "c14becd1-fedc-40b6-9e1b-0767fad59488",
   "metadata": {},
   "outputs": [
    {
     "data": {
      "text/plain": [
       "142"
      ]
     },
     "execution_count": 30,
     "metadata": {},
     "output_type": "execute_result"
    }
   ],
   "source": [
    "songs3.iloc[1]"
   ]
  },
  {
   "cell_type": "code",
   "execution_count": 31,
   "id": "2c17ea50-77c5-4f86-8b78-11d8577e5115",
   "metadata": {},
   "outputs": [
    {
     "data": {
      "text/plain": [
       "142"
      ]
     },
     "execution_count": 31,
     "metadata": {},
     "output_type": "execute_result"
    }
   ],
   "source": [
    "numpy_ser[1]"
   ]
  },
  {
   "cell_type": "code",
   "execution_count": 32,
   "id": "0c30f3bc-e0f1-4a21-94e5-6e24f5d2108a",
   "metadata": {},
   "outputs": [
    {
     "data": {
      "text/plain": [
       "84.5"
      ]
     },
     "execution_count": 32,
     "metadata": {},
     "output_type": "execute_result"
    }
   ],
   "source": [
    "songs3.mean()"
   ]
  },
  {
   "cell_type": "code",
   "execution_count": 33,
   "id": "0cb35569-9367-4062-b82e-addd5ceab0fa",
   "metadata": {},
   "outputs": [
    {
     "data": {
      "text/plain": [
       "84.5"
      ]
     },
     "execution_count": 33,
     "metadata": {},
     "output_type": "execute_result"
    }
   ],
   "source": [
    "numpy_ser.mean()"
   ]
  },
  {
   "cell_type": "code",
   "execution_count": 34,
   "id": "ce66f08b-a534-4b70-8e11-0150911e00eb",
   "metadata": {},
   "outputs": [],
   "source": [
    "mask = songs3 > songs3.median()"
   ]
  },
  {
   "cell_type": "code",
   "execution_count": 35,
   "id": "962ade75-3681-4659-a6b2-b3f0e04967ae",
   "metadata": {},
   "outputs": [
    {
     "data": {
      "text/plain": [
       "Paul       True\n",
       "John       True\n",
       "George    False\n",
       "Ringo     False\n",
       "Name: counts, dtype: bool"
      ]
     },
     "execution_count": 35,
     "metadata": {},
     "output_type": "execute_result"
    }
   ],
   "source": [
    "mask"
   ]
  },
  {
   "cell_type": "code",
   "execution_count": 36,
   "id": "4493fa9f-6a4f-4b69-926e-82f6990d6d73",
   "metadata": {},
   "outputs": [
    {
     "data": {
      "text/plain": [
       "Paul    145\n",
       "John    142\n",
       "Name: counts, dtype: int64"
      ]
     },
     "execution_count": 36,
     "metadata": {},
     "output_type": "execute_result"
    }
   ],
   "source": [
    "songs3[mask]"
   ]
  },
  {
   "cell_type": "code",
   "execution_count": 37,
   "id": "c0454450-16d7-45d3-bb7b-0145dcc13b46",
   "metadata": {},
   "outputs": [
    {
     "data": {
      "text/plain": [
       "array([145, 142])"
      ]
     },
     "execution_count": 37,
     "metadata": {},
     "output_type": "execute_result"
    }
   ],
   "source": [
    "numpy_ser[numpy_ser > np.median(numpy_ser)]"
   ]
  },
  {
   "cell_type": "markdown",
   "id": "ce3fb35a-d497-43b3-9507-efda87aaa101",
   "metadata": {},
   "source": [
    "#### Categorical Data"
   ]
  },
  {
   "cell_type": "code",
   "execution_count": 38,
   "id": "7391addd-c2e4-40b4-87f6-9c88ed51a68f",
   "metadata": {},
   "outputs": [],
   "source": [
    "s = pd.Series(['m', 'l', 'xs', 's', 'xl'], dtype='category')"
   ]
  },
  {
   "cell_type": "code",
   "execution_count": 39,
   "id": "29a90f4b-9224-4a87-9ed3-f394bc4fd7c9",
   "metadata": {},
   "outputs": [
    {
     "data": {
      "text/plain": [
       "0     m\n",
       "1     l\n",
       "2    xs\n",
       "3     s\n",
       "4    xl\n",
       "dtype: category\n",
       "Categories (5, object): ['l', 'm', 's', 'xl', 'xs']"
      ]
     },
     "execution_count": 39,
     "metadata": {},
     "output_type": "execute_result"
    }
   ],
   "source": [
    "s"
   ]
  },
  {
   "cell_type": "code",
   "execution_count": 40,
   "id": "336b3b60-7f3a-401e-9b6f-2379091b8688",
   "metadata": {},
   "outputs": [
    {
     "data": {
      "text/plain": [
       "False"
      ]
     },
     "execution_count": 40,
     "metadata": {},
     "output_type": "execute_result"
    }
   ],
   "source": [
    "s.cat.ordered"
   ]
  },
  {
   "cell_type": "code",
   "execution_count": 41,
   "id": "ff343d89-be88-42cb-b8c8-d87c743426f1",
   "metadata": {},
   "outputs": [],
   "source": [
    "s2 = pd.Series(['m', 'l', 'xs', 's', 'xl'])"
   ]
  },
  {
   "cell_type": "code",
   "execution_count": 42,
   "id": "a6aa7603-cc00-447e-bbb6-bb34c13f3da9",
   "metadata": {},
   "outputs": [],
   "source": [
    "size_type = pd.api.types.CategoricalDtype(\n",
    "    categories=['s', 'm', 'l'], ordered=True)"
   ]
  },
  {
   "cell_type": "code",
   "execution_count": 43,
   "id": "07cb7c81-6c7d-4671-9410-3d4b21cd1036",
   "metadata": {},
   "outputs": [],
   "source": [
    "s3 = s2.astype(size_type)"
   ]
  },
  {
   "cell_type": "code",
   "execution_count": 44,
   "id": "0892d58a-099e-4f0d-bd54-ff7f8726c372",
   "metadata": {},
   "outputs": [
    {
     "data": {
      "text/plain": [
       "0      m\n",
       "1      l\n",
       "2    NaN\n",
       "3      s\n",
       "4    NaN\n",
       "dtype: category\n",
       "Categories (3, object): ['s' < 'm' < 'l']"
      ]
     },
     "execution_count": 44,
     "metadata": {},
     "output_type": "execute_result"
    }
   ],
   "source": [
    "s3"
   ]
  },
  {
   "cell_type": "code",
   "execution_count": 46,
   "id": "bfac2b0f-f532-4abd-a05c-81d87eda329e",
   "metadata": {},
   "outputs": [
    {
     "data": {
      "text/plain": [
       "0     True\n",
       "1     True\n",
       "2    False\n",
       "3    False\n",
       "4    False\n",
       "dtype: bool"
      ]
     },
     "execution_count": 46,
     "metadata": {},
     "output_type": "execute_result"
    }
   ],
   "source": [
    "s3 > 's'"
   ]
  },
  {
   "cell_type": "code",
   "execution_count": 47,
   "id": "45632bcd-ed6e-4d0f-9ddd-02803829bbd5",
   "metadata": {},
   "outputs": [
    {
     "data": {
      "text/plain": [
       "0     m\n",
       "1     l\n",
       "2    xs\n",
       "3     s\n",
       "4    xl\n",
       "dtype: category\n",
       "Categories (5, object): ['xs' < 's' < 'm' < 'l' < 'xl']"
      ]
     },
     "execution_count": 47,
     "metadata": {},
     "output_type": "execute_result"
    }
   ],
   "source": [
    "s.cat.reorder_categories(['xs', 's', 'm', 'l', 'xl'], ordered=True)"
   ]
  },
  {
   "cell_type": "code",
   "execution_count": 48,
   "id": "7a2d62c1-90e1-41a1-98e8-f86064165295",
   "metadata": {},
   "outputs": [
    {
     "data": {
      "text/plain": [
       "0      M\n",
       "1      L\n",
       "2    NaN\n",
       "3      S\n",
       "4    NaN\n",
       "dtype: object"
      ]
     },
     "execution_count": 48,
     "metadata": {},
     "output_type": "execute_result"
    }
   ],
   "source": [
    "s3.str.upper()"
   ]
  },
  {
   "cell_type": "code",
   "execution_count": null,
   "id": "19b66d8a-966d-445d-9640-895c09f60ee1",
   "metadata": {},
   "outputs": [],
   "source": []
  }
 ],
 "metadata": {
  "kernelspec": {
   "display_name": "Python 3 (ipykernel)",
   "language": "python",
   "name": "python3"
  },
  "language_info": {
   "codemirror_mode": {
    "name": "ipython",
    "version": 3
   },
   "file_extension": ".py",
   "mimetype": "text/x-python",
   "name": "python",
   "nbconvert_exporter": "python",
   "pygments_lexer": "ipython3",
   "version": "3.9.16"
  }
 },
 "nbformat": 4,
 "nbformat_minor": 5
}
