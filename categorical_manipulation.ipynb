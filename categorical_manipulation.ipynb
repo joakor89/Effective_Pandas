{
 "cells": [
  {
   "cell_type": "markdown",
   "id": "b028c019-f4ca-461d-b188-334b0112039c",
   "metadata": {},
   "source": [
    "# Categorical Manipulation\n",
    "\n",
    "#### Loading Libraries"
   ]
  },
  {
   "cell_type": "code",
   "execution_count": 1,
   "id": "dc7f42af-213f-4e5d-a676-ec99e28a20a7",
   "metadata": {},
   "outputs": [],
   "source": [
    "# Numerical Computing\n",
    "import numpy as np\n",
    "# Data Manipulation\n",
    "import pandas as pd\n",
    "# Data Visualization\n",
    "import matplotlib\n",
    "import matplotlib.pyplot as plt\n",
    "import seaborn as sns"
   ]
  },
  {
   "cell_type": "markdown",
   "id": "99979dde-cd79-4080-b265-741068942d14",
   "metadata": {},
   "source": [
    "#### Categorical Data"
   ]
  },
  {
   "cell_type": "code",
   "execution_count": 2,
   "id": "b2fe950e-2dbb-46bc-80d1-7a116b64e4a1",
   "metadata": {},
   "outputs": [],
   "source": [
    "file_path = '/Users/isisromero/desktop/effective_pandas/data/vehicles.csv'\n",
    "df = pd.read_csv(file_path, low_memory=False)"
   ]
  },
  {
   "cell_type": "code",
   "execution_count": 4,
   "id": "b7b4fd3d-5c3b-4ac9-8849-fcb68c06ac33",
   "metadata": {},
   "outputs": [
    {
     "data": {
      "text/plain": [
       "0        Alfa Romeo\n",
       "1           Ferrari\n",
       "2             Dodge\n",
       "3             Dodge\n",
       "4            Subaru\n",
       "            ...    \n",
       "41139        Subaru\n",
       "41140        Subaru\n",
       "41141        Subaru\n",
       "41142        Subaru\n",
       "41143        Subaru\n",
       "Name: make, Length: 41144, dtype: object"
      ]
     },
     "execution_count": 4,
     "metadata": {},
     "output_type": "execute_result"
    }
   ],
   "source": [
    "make = df.make\n",
    "make"
   ]
  },
  {
   "cell_type": "markdown",
   "id": "4fefe1f7-cbb2-48b8-9f71-4f35d3dba6a7",
   "metadata": {},
   "source": [
    "#### Frequency Counts"
   ]
  },
  {
   "cell_type": "code",
   "execution_count": 5,
   "id": "00ab762c-42a5-4ad8-a091-bf18d9e58f8f",
   "metadata": {},
   "outputs": [
    {
     "data": {
      "text/plain": [
       "make\n",
       "Chevrolet                           4003\n",
       "Ford                                3371\n",
       "Dodge                               2583\n",
       "GMC                                 2494\n",
       "Toyota                              2071\n",
       "                                    ... \n",
       "E. P. Dutton, Inc.                     1\n",
       "Fisker                                 1\n",
       "Panoz Auto-Development                 1\n",
       "Environmental Rsch and Devp Corp       1\n",
       "Grumman Allied Industries              1\n",
       "Name: count, Length: 136, dtype: int64"
      ]
     },
     "execution_count": 5,
     "metadata": {},
     "output_type": "execute_result"
    }
   ],
   "source": [
    "make.value_counts()"
   ]
  },
  {
   "cell_type": "code",
   "execution_count": 6,
   "id": "459b17e7-d87d-4373-a685-6c7cc67d95b3",
   "metadata": {},
   "outputs": [
    {
     "data": {
      "text/plain": [
       "((41144,), 136)"
      ]
     },
     "execution_count": 6,
     "metadata": {},
     "output_type": "execute_result"
    }
   ],
   "source": [
    "make.shape, make.nunique()"
   ]
  },
  {
   "cell_type": "markdown",
   "id": "43647e9f-3cd4-4bcb-a804-c2ab1800353f",
   "metadata": {},
   "source": [
    "#### Benefits of Categories"
   ]
  },
  {
   "cell_type": "code",
   "execution_count": 7,
   "id": "1a3c91e8-9366-499c-bc3f-495d8861db83",
   "metadata": {},
   "outputs": [],
   "source": [
    "cat_make = make.astype('category')"
   ]
  },
  {
   "cell_type": "code",
   "execution_count": 8,
   "id": "067c2d9c-a02c-48a0-85c6-8377077561f0",
   "metadata": {},
   "outputs": [
    {
     "data": {
      "text/plain": [
       "2606395"
      ]
     },
     "execution_count": 8,
     "metadata": {},
     "output_type": "execute_result"
    }
   ],
   "source": [
    "make.memory_usage(deep=True)"
   ]
  },
  {
   "cell_type": "code",
   "execution_count": 10,
   "id": "e1cd36db-e4af-4c75-a084-ed35698fdc7f",
   "metadata": {},
   "outputs": [
    {
     "data": {
      "text/plain": [
       "95888"
      ]
     },
     "execution_count": 10,
     "metadata": {},
     "output_type": "execute_result"
    }
   ],
   "source": [
    "cat_make.memory_usage(deep=True)"
   ]
  },
  {
   "cell_type": "code",
   "execution_count": 11,
   "id": "9c5c138f-f882-44b6-b2dc-63a7b01c7025",
   "metadata": {},
   "outputs": [
    {
     "name": "stdout",
     "output_type": "stream",
     "text": [
      "408 µs ± 7.2 µs per loop (mean ± std. dev. of 7 runs, 1,000 loops each)\n"
     ]
    }
   ],
   "source": [
    "%%timeit\n",
    "cat_make.str.upper()"
   ]
  },
  {
   "cell_type": "code",
   "execution_count": 13,
   "id": "507c3b3d-802f-4e17-b1a8-80873c19a624",
   "metadata": {},
   "outputs": [
    {
     "name": "stdout",
     "output_type": "stream",
     "text": [
      "7.6 ms ± 898 µs per loop (mean ± std. dev. of 7 runs, 100 loops each)\n"
     ]
    }
   ],
   "source": [
    "%%timeit\n",
    "make.str.upper()"
   ]
  },
  {
   "cell_type": "markdown",
   "id": "2bc16520-db0f-4370-b2ad-b062c83596f4",
   "metadata": {},
   "source": [
    "#### Conversion to Ordinal Categories"
   ]
  },
  {
   "cell_type": "code",
   "execution_count": 14,
   "id": "43ed0f88-f40d-4b3e-aa09-17cb477adb1a",
   "metadata": {},
   "outputs": [],
   "source": [
    "make_type = pd.CategoricalDtype(\n",
    "    categories=sorted(make.unique()), ordered=True)"
   ]
  },
  {
   "cell_type": "code",
   "execution_count": 15,
   "id": "01cbbc9c-b343-458c-a495-2b09005779ef",
   "metadata": {},
   "outputs": [],
   "source": [
    "ordered_make = make.astype(make_type)"
   ]
  },
  {
   "cell_type": "code",
   "execution_count": 16,
   "id": "73c54180-406e-4b29-80a4-93a24cd13836",
   "metadata": {},
   "outputs": [
    {
     "data": {
      "text/plain": [
       "0        Alfa Romeo\n",
       "1           Ferrari\n",
       "2             Dodge\n",
       "3             Dodge\n",
       "4            Subaru\n",
       "            ...    \n",
       "41139        Subaru\n",
       "41140        Subaru\n",
       "41141        Subaru\n",
       "41142        Subaru\n",
       "41143        Subaru\n",
       "Name: make, Length: 41144, dtype: category\n",
       "Categories (136, object): ['AM General' < 'ASC Incorporated' < 'Acura' < 'Alfa Romeo' ... 'Volvo' < 'Wallace Environmental' < 'Yugo' < 'smart']"
      ]
     },
     "execution_count": 16,
     "metadata": {},
     "output_type": "execute_result"
    }
   ],
   "source": [
    "ordered_make"
   ]
  },
  {
   "cell_type": "code",
   "execution_count": 17,
   "id": "82b3f06b-361d-4107-b915-f180efc3c5ea",
   "metadata": {},
   "outputs": [
    {
     "data": {
      "text/plain": [
       "'smart'"
      ]
     },
     "execution_count": 17,
     "metadata": {},
     "output_type": "execute_result"
    }
   ],
   "source": [
    "ordered_make.max()"
   ]
  },
  {
   "cell_type": "code",
   "execution_count": 19,
   "id": "96a15cd6-7339-46e7-bbee-89d9f3dd6059",
   "metadata": {},
   "outputs": [],
   "source": [
    "# cat_make.max()"
   ]
  },
  {
   "cell_type": "code",
   "execution_count": 20,
   "id": "0d656172-64ad-4e4d-b194-6e864a2bad9d",
   "metadata": {},
   "outputs": [
    {
     "data": {
      "text/plain": [
       "20288    AM General\n",
       "20289    AM General\n",
       "369      AM General\n",
       "358      AM General\n",
       "19314    AM General\n",
       "            ...    \n",
       "31289         smart\n",
       "31290         smart\n",
       "29605         smart\n",
       "22974         smart\n",
       "26882         smart\n",
       "Name: make, Length: 41144, dtype: category\n",
       "Categories (136, object): ['AM General' < 'ASC Incorporated' < 'Acura' < 'Alfa Romeo' ... 'Volvo' < 'Wallace Environmental' < 'Yugo' < 'smart']"
      ]
     },
     "execution_count": 20,
     "metadata": {},
     "output_type": "execute_result"
    }
   ],
   "source": [
    "ordered_make.sort_values()"
   ]
  },
  {
   "cell_type": "markdown",
   "id": "92f6e213-0a2d-493c-b7f2-1423b4c8040d",
   "metadata": {},
   "source": [
    "#### The .cat Accessor"
   ]
  },
  {
   "cell_type": "code",
   "execution_count": 21,
   "id": "b6adfc6a-659f-4777-91e0-0c9dd6385601",
   "metadata": {},
   "outputs": [
    {
     "data": {
      "text/plain": [
       "0        alfa romeo\n",
       "1           ferrari\n",
       "2             dodge\n",
       "3             dodge\n",
       "4            subaru\n",
       "            ...    \n",
       "41139        subaru\n",
       "41140        subaru\n",
       "41141        subaru\n",
       "41142        subaru\n",
       "41143        subaru\n",
       "Name: make, Length: 41144, dtype: category\n",
       "Categories (136, object): ['am general', 'asc incorporated', 'acura', 'alfa romeo', ..., 'volvo', 'wallace environmental', 'yugo', 'smart']"
      ]
     },
     "execution_count": 21,
     "metadata": {},
     "output_type": "execute_result"
    }
   ],
   "source": [
    "cat_make.cat.rename_categories(\n",
    "   [c.lower() for c in cat_make.cat.categories])"
   ]
  },
  {
   "cell_type": "code",
   "execution_count": 22,
   "id": "e2c31df8-23a5-4bd4-819d-11670d0d45ad",
   "metadata": {},
   "outputs": [
    {
     "data": {
      "text/plain": [
       "0        alfa romeo\n",
       "1           ferrari\n",
       "2             dodge\n",
       "3             dodge\n",
       "4            subaru\n",
       "            ...    \n",
       "41139        subaru\n",
       "41140        subaru\n",
       "41141        subaru\n",
       "41142        subaru\n",
       "41143        subaru\n",
       "Name: make, Length: 41144, dtype: category\n",
       "Categories (136, object): ['am general' < 'asc incorporated' < 'acura' < 'alfa romeo' ... 'volvo' < 'wallace environmental' < 'yugo' < 'smart']"
      ]
     },
     "execution_count": 22,
     "metadata": {},
     "output_type": "execute_result"
    }
   ],
   "source": [
    "ordered_make.cat.rename_categories(\n",
    "   {c:c.lower() for c in ordered_make.cat.categories})"
   ]
  },
  {
   "cell_type": "code",
   "execution_count": 23,
   "id": "967bfe95-262d-411c-8888-485ea5b4b8fe",
   "metadata": {},
   "outputs": [
    {
     "data": {
      "text/plain": [
       "0        Alfa Romeo\n",
       "1           Ferrari\n",
       "2             Dodge\n",
       "3             Dodge\n",
       "4            Subaru\n",
       "            ...    \n",
       "41139        Subaru\n",
       "41140        Subaru\n",
       "41141        Subaru\n",
       "41142        Subaru\n",
       "41143        Subaru\n",
       "Name: make, Length: 41144, dtype: category\n",
       "Categories (136, object): ['Acura' < 'Alfa Romeo' < 'AM General' < 'American Motors Corporation' ... 'Volvo' < 'VPG' < 'Wallace Environmental' < 'Yugo']"
      ]
     },
     "execution_count": 23,
     "metadata": {},
     "output_type": "execute_result"
    }
   ],
   "source": [
    "ordered_make.cat.reorder_categories( \n",
    "    sorted(cat_make.cat.categories, key=str.lower))"
   ]
  },
  {
   "cell_type": "markdown",
   "id": "f66ca149-77cd-42da-88c5-8ae79ed3a8af",
   "metadata": {},
   "source": [
    "#### Category Gotchas"
   ]
  },
  {
   "cell_type": "code",
   "execution_count": 24,
   "id": "b193f0a6-5fec-4086-bd09-c95a9840c442",
   "metadata": {},
   "outputs": [
    {
     "data": {
      "text/plain": [
       "make\n",
       "Dodge                  17\n",
       "Oldsmobile              8\n",
       "Ford                    8\n",
       "Buick                   7\n",
       "Plymouth                5\n",
       "                       ..\n",
       "Tecstar, LP             0\n",
       "Tesla                   0\n",
       "Texas Coach Company     0\n",
       "Vector                  0\n",
       "VPG                     0\n",
       "Name: count, Length: 136, dtype: int64"
      ]
     },
     "execution_count": 24,
     "metadata": {},
     "output_type": "execute_result"
    }
   ],
   "source": [
    "ordered_make.iloc[:100].value_counts()"
   ]
  },
  {
   "cell_type": "code",
   "execution_count": 25,
   "id": "e2bb9447-99ea-43fa-b020-5f71bf6e75c9",
   "metadata": {},
   "outputs": [
    {
     "name": "stderr",
     "output_type": "stream",
     "text": [
      "/var/folders/wh/l_q69dcj75z0c82jy8ry71f40000gn/T/ipykernel_66118/3483575836.py:1: FutureWarning: The default of observed=False is deprecated and will be changed to True in a future version of pandas. Pass observed=False to retain current behavior or observed=True to adopt the future default and silence this warning.\n",
      "  (cat_make\n"
     ]
    },
    {
     "data": {
      "text/plain": [
       "make\n",
       "AM General                            NaN\n",
       "ASC Incorporated                      NaN\n",
       "Acura                                 NaN\n",
       "Alfa Romeo                     Alfa Romeo\n",
       "American Motors Corporation           NaN\n",
       "                                  ...    \n",
       "Volkswagen                     Volkswagen\n",
       "Volvo                               Volvo\n",
       "Wallace Environmental                 NaN\n",
       "Yugo                                  NaN\n",
       "smart                                 NaN\n",
       "Name: make, Length: 136, dtype: category\n",
       "Categories (136, object): ['AM General', 'ASC Incorporated', 'Acura', 'Alfa Romeo', ..., 'Volvo', 'Wallace Environmental', 'Yugo', 'smart']"
      ]
     },
     "execution_count": 25,
     "metadata": {},
     "output_type": "execute_result"
    }
   ],
   "source": [
    "(cat_make\n",
    " .iloc[:100]\n",
    " .groupby(cat_make.iloc[:100])\n",
    " .first()\n",
    ")"
   ]
  },
  {
   "cell_type": "code",
   "execution_count": 26,
   "id": "5909e46d-5951-4764-a8d2-7c43c09494a9",
   "metadata": {},
   "outputs": [
    {
     "data": {
      "text/plain": [
       "make\n",
       "Alfa Romeo          Alfa Romeo\n",
       "Audi                      Audi\n",
       "BMW                        BMW\n",
       "Buick                    Buick\n",
       "CX Automotive    CX Automotive\n",
       "Cadillac              Cadillac\n",
       "Chevrolet            Chevrolet\n",
       "Chrysler              Chrysler\n",
       "Dodge                    Dodge\n",
       "Ferrari                Ferrari\n",
       "Ford                      Ford\n",
       "Hyundai                Hyundai\n",
       "Infiniti              Infiniti\n",
       "Lexus                    Lexus\n",
       "Mazda                    Mazda\n",
       "Mercury                Mercury\n",
       "Nissan                  Nissan\n",
       "Oldsmobile          Oldsmobile\n",
       "Plymouth              Plymouth\n",
       "Pontiac                Pontiac\n",
       "Rolls-Royce        Rolls-Royce\n",
       "Subaru                  Subaru\n",
       "Toyota                  Toyota\n",
       "Volkswagen          Volkswagen\n",
       "Volvo                    Volvo\n",
       "Name: make, dtype: object"
      ]
     },
     "execution_count": 26,
     "metadata": {},
     "output_type": "execute_result"
    }
   ],
   "source": [
    "(make\n",
    " .iloc[:100]\n",
    " .groupby(make.iloc[:100])\n",
    " .first()\n",
    ")"
   ]
  },
  {
   "cell_type": "code",
   "execution_count": 31,
   "id": "a1b92363-6c92-4b81-84c8-bfab730cd57d",
   "metadata": {},
   "outputs": [
    {
     "data": {
      "text/plain": [
       "make\n",
       "Alfa Romeo          Alfa Romeo\n",
       "Audi                      Audi\n",
       "BMW                        BMW\n",
       "Buick                    Buick\n",
       "CX Automotive    CX Automotive\n",
       "Cadillac              Cadillac\n",
       "Chevrolet            Chevrolet\n",
       "Chrysler              Chrysler\n",
       "Dodge                    Dodge\n",
       "Ferrari                Ferrari\n",
       "Ford                      Ford\n",
       "Hyundai                Hyundai\n",
       "Infiniti              Infiniti\n",
       "Lexus                    Lexus\n",
       "Mazda                    Mazda\n",
       "Mercury                Mercury\n",
       "Nissan                  Nissan\n",
       "Oldsmobile          Oldsmobile\n",
       "Plymouth              Plymouth\n",
       "Pontiac                Pontiac\n",
       "Rolls-Royce        Rolls-Royce\n",
       "Subaru                  Subaru\n",
       "Toyota                  Toyota\n",
       "Volkswagen          Volkswagen\n",
       "Volvo                    Volvo\n",
       "Name: make, dtype: category\n",
       "Categories (136, object): ['AM General', 'ASC Incorporated', 'Acura', 'Alfa Romeo', ..., 'Volvo', 'Wallace Environmental', 'Yugo', 'smart']"
      ]
     },
     "execution_count": 31,
     "metadata": {},
     "output_type": "execute_result"
    }
   ],
   "source": [
    "(cat_make\n",
    " .iloc[:100]\n",
    " .groupby(cat_make.iloc[:100], observed=True)\n",
    " .first()\n",
    ")"
   ]
  },
  {
   "cell_type": "code",
   "execution_count": 32,
   "id": "3ea22865-4279-48f3-99c7-38b20bbdb150",
   "metadata": {},
   "outputs": [
    {
     "data": {
      "text/plain": [
       "'Alfa Romeo'"
      ]
     },
     "execution_count": 32,
     "metadata": {},
     "output_type": "execute_result"
    }
   ],
   "source": [
    "ordered_make.iloc[0]"
   ]
  },
  {
   "cell_type": "code",
   "execution_count": 33,
   "id": "3b689409-e998-46b9-b2e0-7571b9704f3b",
   "metadata": {},
   "outputs": [
    {
     "data": {
      "text/plain": [
       "0    Alfa Romeo\n",
       "Name: make, dtype: category\n",
       "Categories (136, object): ['AM General' < 'ASC Incorporated' < 'Acura' < 'Alfa Romeo' ... 'Volvo' < 'Wallace Environmental' < 'Yugo' < 'smart']"
      ]
     },
     "execution_count": 33,
     "metadata": {},
     "output_type": "execute_result"
    }
   ],
   "source": [
    "ordered_make.iloc[[0]]"
   ]
  },
  {
   "cell_type": "markdown",
   "id": "972ee39c-62f8-4bad-a7cd-1cb5928dd89a",
   "metadata": {},
   "source": [
    "#### Generalization"
   ]
  },
  {
   "cell_type": "code",
   "execution_count": 34,
   "id": "0b5bc10b-e359-4c78-8820-918513259358",
   "metadata": {},
   "outputs": [],
   "source": [
    "def generalize_topn(ser, n=5, other='Other'):\n",
    "    topn = ser.value_counts().index[:n]\n",
    "    if isinstance(ser.dtype, pd.CategoricalDtype):\n",
    "        ser = ser.cat.set_categories(\n",
    "            topn.set_categories(list(topn)+[other]))\n",
    "    return ser.where(ser.isin(topn), other)"
   ]
  },
  {
   "cell_type": "code",
   "execution_count": 35,
   "id": "a844d988-d3e0-4570-a5e0-0a59c0de6617",
   "metadata": {},
   "outputs": [
    {
     "data": {
      "text/plain": [
       "0            NA\n",
       "1            NA\n",
       "2         Dodge\n",
       "3         Dodge\n",
       "4        Subaru\n",
       "          ...  \n",
       "41139    Subaru\n",
       "41140    Subaru\n",
       "41141    Subaru\n",
       "41142    Subaru\n",
       "41143    Subaru\n",
       "Name: make, Length: 41144, dtype: category\n",
       "Categories (21, object): ['Chevrolet', 'Ford', 'Dodge', 'GMC', ..., 'Volvo', 'Hyundai', 'Chrysler', 'NA']"
      ]
     },
     "execution_count": 35,
     "metadata": {},
     "output_type": "execute_result"
    }
   ],
   "source": [
    "cat_make.pipe(generalize_topn, n=20, other='NA')"
   ]
  },
  {
   "cell_type": "code",
   "execution_count": 38,
   "id": "f797ab8e-66a1-49b6-8e8e-c991245f0e7d",
   "metadata": {},
   "outputs": [],
   "source": [
    "def generalize_mapping(ser, mapping, default):\n",
    "    seen = None\n",
    "    res = ser.astype(str)\n",
    "    for old, new in mapping.items():\n",
    "         mask = ser.str.contains(old)\n",
    "         if seen is None:\n",
    "             seen = mask\n",
    "         else:\n",
    "             seen |= mask\n",
    "         res = res.where(~mask, new)\n",
    "    res = res.where(seen, default)\n",
    "    return res.astype('category')"
   ]
  },
  {
   "cell_type": "code",
   "execution_count": 39,
   "id": "8f2d6299-4552-480b-b31f-b3b60f395364",
   "metadata": {},
   "outputs": [
    {
     "data": {
      "text/plain": [
       "0        Other\n",
       "1        Other\n",
       "2           US\n",
       "3           US\n",
       "4        Other\n",
       "         ...  \n",
       "41139    Other\n",
       "41140    Other\n",
       "41141    Other\n",
       "41142    Other\n",
       "41143    Other\n",
       "Name: make, Length: 41144, dtype: category\n",
       "Categories (3, object): ['German', 'Other', 'US']"
      ]
     },
     "execution_count": 39,
     "metadata": {},
     "output_type": "execute_result"
    }
   ],
   "source": [
    "generalize_mapping(cat_make, {'Ford': 'US', 'Tesla': 'US',\n",
    "    'Chevrolet': 'US', 'Dodge': 'US',\n",
    "    'Oldsmobile': 'US', 'Plymouth': 'US',\n",
    "    'BMW': 'German'}, 'Other')"
   ]
  },
  {
   "cell_type": "code",
   "execution_count": null,
   "id": "a2cf8a83-0ba4-4e18-9faf-425bf5544dcf",
   "metadata": {},
   "outputs": [],
   "source": []
  }
 ],
 "metadata": {
  "kernelspec": {
   "display_name": "Python 3 (ipykernel)",
   "language": "python",
   "name": "python3"
  },
  "language_info": {
   "codemirror_mode": {
    "name": "ipython",
    "version": 3
   },
   "file_extension": ".py",
   "mimetype": "text/x-python",
   "name": "python",
   "nbconvert_exporter": "python",
   "pygments_lexer": "ipython3",
   "version": "3.9.16"
  }
 },
 "nbformat": 4,
 "nbformat_minor": 5
}
