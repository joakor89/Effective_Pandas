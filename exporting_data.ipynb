{
 "cells": [
  {
   "cell_type": "markdown",
   "id": "206dea07-2c18-4b62-9c86-64649c6cbcea",
   "metadata": {},
   "source": [
    "# Exporting Data\n",
    "\n",
    "#### Loading Libraries"
   ]
  },
  {
   "cell_type": "code",
   "execution_count": 1,
   "id": "7f99e356-f677-4f5c-9b22-f195a7fa0819",
   "metadata": {},
   "outputs": [],
   "source": [
    "# Data Manipulation\n",
    "import pandas as pd\n",
    "# Numerical Computing\n",
    "import numpy as np\n",
    "# Data Visualization\n",
    "import matplotlib.pyplot as plt\n",
    "import seaborn as sns"
   ]
  },
  {
   "cell_type": "markdown",
   "id": "5340bf22-e646-44be-bf98-2b5870d07757",
   "metadata": {},
   "source": [
    "#### Loading Data"
   ]
  },
  {
   "cell_type": "code",
   "execution_count": 2,
   "id": "313cab92-913d-48c5-950f-264335e5ea3f",
   "metadata": {},
   "outputs": [
    {
     "name": "stderr",
     "output_type": "stream",
     "text": [
      "/var/folders/dk/f9pbhbp52qxc0613mpbtx8lm0000gn/T/ipykernel_13488/1770968935.py:3: DtypeWarning: Columns (7) have mixed types. Specify dtype option on import or set low_memory=False.\n",
      "  df = pd.read_csv(url, skiprows=lambda num: num <34 or num == 35,\n"
     ]
    }
   ],
   "source": [
    "url = 'https://github.com/mattharrison/datasets/raw/master'\\\n",
    "      '/data/dirtydevil.txt'\n",
    "df = pd.read_csv(url, skiprows=lambda num: num <34 or num == 35,\n",
    "                 sep='\\t')"
   ]
  },
  {
   "cell_type": "code",
   "execution_count": 3,
   "id": "a50d2edd-dadc-47a2-986c-8b689a806968",
   "metadata": {},
   "outputs": [],
   "source": [
    "def to_denver_time(df_, time_col, tz_col):\n",
    "    return (df_\n",
    "       .assign(**{tz_col: df_[tz_col].replace('MDT', 'MST7MDT')})\n",
    "       .groupby(tz_col)\n",
    "       [time_col]\n",
    "       .transform(lambda s: pd.to_datetime(s)\n",
    "           .dt.tz_localize(s.name, ambiguous=True)\n",
    "           .dt.tz_convert('America/Denver'))\n",
    "    )"
   ]
  },
  {
   "cell_type": "code",
   "execution_count": 4,
   "id": "0eb3a498-427f-4eac-b82e-577b5e562cc4",
   "metadata": {},
   "outputs": [],
   "source": [
    "def tweak_river(df_):\n",
    "    return (df_\n",
    "     .assign(datetime=to_denver_time(df_, 'datetime', 'tz_cd'))\n",
    "     .rename(columns={'144166_00060': 'cfs',\n",
    "                      '144167_00065': 'gage_height'})\n",
    "     .set_index('datetime')\n",
    "    )"
   ]
  },
  {
   "cell_type": "code",
   "execution_count": 5,
   "id": "9e417a74-85fe-4de1-8469-b2bc99565b0f",
   "metadata": {},
   "outputs": [
    {
     "data": {
      "text/html": [
       "<div>\n",
       "<style scoped>\n",
       "    .dataframe tbody tr th:only-of-type {\n",
       "        vertical-align: middle;\n",
       "    }\n",
       "\n",
       "    .dataframe tbody tr th {\n",
       "        vertical-align: top;\n",
       "    }\n",
       "\n",
       "    .dataframe thead th {\n",
       "        text-align: right;\n",
       "    }\n",
       "</style>\n",
       "<table border=\"1\" class=\"dataframe\">\n",
       "  <thead>\n",
       "    <tr style=\"text-align: right;\">\n",
       "      <th></th>\n",
       "      <th>agency_cd</th>\n",
       "      <th>site_no</th>\n",
       "      <th>tz_cd</th>\n",
       "      <th>cfs</th>\n",
       "      <th>144166_00060_cd</th>\n",
       "      <th>gage_height</th>\n",
       "      <th>144167_00065_cd</th>\n",
       "    </tr>\n",
       "    <tr>\n",
       "      <th>datetime</th>\n",
       "      <th></th>\n",
       "      <th></th>\n",
       "      <th></th>\n",
       "      <th></th>\n",
       "      <th></th>\n",
       "      <th></th>\n",
       "      <th></th>\n",
       "    </tr>\n",
       "  </thead>\n",
       "  <tbody>\n",
       "    <tr>\n",
       "      <th>2001-05-07 01:00:00-06:00</th>\n",
       "      <td>USGS</td>\n",
       "      <td>9333500</td>\n",
       "      <td>MDT</td>\n",
       "      <td>71.00</td>\n",
       "      <td>A:[91]</td>\n",
       "      <td>NaN</td>\n",
       "      <td>NaN</td>\n",
       "    </tr>\n",
       "    <tr>\n",
       "      <th>2001-05-07 01:15:00-06:00</th>\n",
       "      <td>USGS</td>\n",
       "      <td>9333500</td>\n",
       "      <td>MDT</td>\n",
       "      <td>71.00</td>\n",
       "      <td>A:[91]</td>\n",
       "      <td>NaN</td>\n",
       "      <td>NaN</td>\n",
       "    </tr>\n",
       "    <tr>\n",
       "      <th>2001-05-07 01:30:00-06:00</th>\n",
       "      <td>USGS</td>\n",
       "      <td>9333500</td>\n",
       "      <td>MDT</td>\n",
       "      <td>71.00</td>\n",
       "      <td>A:[91]</td>\n",
       "      <td>NaN</td>\n",
       "      <td>NaN</td>\n",
       "    </tr>\n",
       "    <tr>\n",
       "      <th>2001-05-07 01:45:00-06:00</th>\n",
       "      <td>USGS</td>\n",
       "      <td>9333500</td>\n",
       "      <td>MDT</td>\n",
       "      <td>70.00</td>\n",
       "      <td>A:[91]</td>\n",
       "      <td>NaN</td>\n",
       "      <td>NaN</td>\n",
       "    </tr>\n",
       "    <tr>\n",
       "      <th>2001-05-07 02:00:00-06:00</th>\n",
       "      <td>USGS</td>\n",
       "      <td>9333500</td>\n",
       "      <td>MDT</td>\n",
       "      <td>70.00</td>\n",
       "      <td>A:[91]</td>\n",
       "      <td>NaN</td>\n",
       "      <td>NaN</td>\n",
       "    </tr>\n",
       "    <tr>\n",
       "      <th>...</th>\n",
       "      <td>...</td>\n",
       "      <td>...</td>\n",
       "      <td>...</td>\n",
       "      <td>...</td>\n",
       "      <td>...</td>\n",
       "      <td>...</td>\n",
       "      <td>...</td>\n",
       "    </tr>\n",
       "    <tr>\n",
       "      <th>2020-09-28 08:30:00-06:00</th>\n",
       "      <td>USGS</td>\n",
       "      <td>9333500</td>\n",
       "      <td>MDT</td>\n",
       "      <td>9.53</td>\n",
       "      <td>P</td>\n",
       "      <td>6.16</td>\n",
       "      <td>P</td>\n",
       "    </tr>\n",
       "    <tr>\n",
       "      <th>2020-09-28 08:45:00-06:00</th>\n",
       "      <td>USGS</td>\n",
       "      <td>9333500</td>\n",
       "      <td>MDT</td>\n",
       "      <td>9.20</td>\n",
       "      <td>P</td>\n",
       "      <td>6.15</td>\n",
       "      <td>P</td>\n",
       "    </tr>\n",
       "    <tr>\n",
       "      <th>2020-09-28 09:00:00-06:00</th>\n",
       "      <td>USGS</td>\n",
       "      <td>9333500</td>\n",
       "      <td>MDT</td>\n",
       "      <td>9.20</td>\n",
       "      <td>P</td>\n",
       "      <td>6.15</td>\n",
       "      <td>P</td>\n",
       "    </tr>\n",
       "    <tr>\n",
       "      <th>2020-09-28 09:15:00-06:00</th>\n",
       "      <td>USGS</td>\n",
       "      <td>9333500</td>\n",
       "      <td>MDT</td>\n",
       "      <td>9.20</td>\n",
       "      <td>P</td>\n",
       "      <td>6.15</td>\n",
       "      <td>P</td>\n",
       "    </tr>\n",
       "    <tr>\n",
       "      <th>2020-09-28 09:30:00-06:00</th>\n",
       "      <td>USGS</td>\n",
       "      <td>9333500</td>\n",
       "      <td>MDT</td>\n",
       "      <td>9.20</td>\n",
       "      <td>P</td>\n",
       "      <td>6.15</td>\n",
       "      <td>P</td>\n",
       "    </tr>\n",
       "  </tbody>\n",
       "</table>\n",
       "<p>539305 rows × 7 columns</p>\n",
       "</div>"
      ],
      "text/plain": [
       "                          agency_cd  site_no tz_cd    cfs 144166_00060_cd  \\\n",
       "datetime                                                                    \n",
       "2001-05-07 01:00:00-06:00      USGS  9333500   MDT  71.00          A:[91]   \n",
       "2001-05-07 01:15:00-06:00      USGS  9333500   MDT  71.00          A:[91]   \n",
       "2001-05-07 01:30:00-06:00      USGS  9333500   MDT  71.00          A:[91]   \n",
       "2001-05-07 01:45:00-06:00      USGS  9333500   MDT  70.00          A:[91]   \n",
       "2001-05-07 02:00:00-06:00      USGS  9333500   MDT  70.00          A:[91]   \n",
       "...                             ...      ...   ...    ...             ...   \n",
       "2020-09-28 08:30:00-06:00      USGS  9333500   MDT   9.53               P   \n",
       "2020-09-28 08:45:00-06:00      USGS  9333500   MDT   9.20               P   \n",
       "2020-09-28 09:00:00-06:00      USGS  9333500   MDT   9.20               P   \n",
       "2020-09-28 09:15:00-06:00      USGS  9333500   MDT   9.20               P   \n",
       "2020-09-28 09:30:00-06:00      USGS  9333500   MDT   9.20               P   \n",
       "\n",
       "                           gage_height 144167_00065_cd  \n",
       "datetime                                                \n",
       "2001-05-07 01:00:00-06:00          NaN             NaN  \n",
       "2001-05-07 01:15:00-06:00          NaN             NaN  \n",
       "2001-05-07 01:30:00-06:00          NaN             NaN  \n",
       "2001-05-07 01:45:00-06:00          NaN             NaN  \n",
       "2001-05-07 02:00:00-06:00          NaN             NaN  \n",
       "...                                ...             ...  \n",
       "2020-09-28 08:30:00-06:00         6.16               P  \n",
       "2020-09-28 08:45:00-06:00         6.15               P  \n",
       "2020-09-28 09:00:00-06:00         6.15               P  \n",
       "2020-09-28 09:15:00-06:00         6.15               P  \n",
       "2020-09-28 09:30:00-06:00         6.15               P  \n",
       "\n",
       "[539305 rows x 7 columns]"
      ]
     },
     "execution_count": 5,
     "metadata": {},
     "output_type": "execute_result"
    }
   ],
   "source": [
    "dd = tweak_river(df)\n",
    "dd"
   ]
  },
  {
   "cell_type": "markdown",
   "id": "d9179cb5-589d-4baf-b7b3-e9c6e02c04d3",
   "metadata": {},
   "source": [
    "### Reading & Writing\n",
    "\n",
    "#### Creating CSV Files"
   ]
  },
  {
   "cell_type": "code",
   "execution_count": 7,
   "id": "46191d0c-cd96-4efa-97d8-c361202319b8",
   "metadata": {},
   "outputs": [],
   "source": [
    "dd.to_csv('/Users/isisromero/desktop/dd.csv')"
   ]
  },
  {
   "cell_type": "code",
   "execution_count": 8,
   "id": "76f58f15-cf20-44e8-8484-2a50c75f5554",
   "metadata": {},
   "outputs": [
    {
     "name": "stdout",
     "output_type": "stream",
     "text": [
      "datetime,agency_cd,site_no,tz_cd,cfs,144166_00060_cd,gage_height,144167_00065_cd\n",
      "2001-05-07 01:00:00-06:00,USGS,9333500,MDT,71.0,A:[91],,\n",
      "2001-05-07 01:15:00-06:00,USGS,9333500,MDT,71.0,A:[91],,\n",
      "2001-05-07 01:30:00-06:00,USGS,9333500,MDT,71.0,A:[91],,\n",
      "2001-05-07 01:45:00-06:00,USGS,9333500,MDT,70.0,A:[91],,\n",
      "2001-05-07 02:00:00-06:00,USGS,9333500,MDT,70.0,A:[91],,\n",
      "\n"
     ]
    }
   ],
   "source": [
    "print(dd.head(5).to_csv())"
   ]
  },
  {
   "cell_type": "code",
   "execution_count": 9,
   "id": "4befded7-f1f2-41e3-856c-2a7067588014",
   "metadata": {},
   "outputs": [
    {
     "name": "stderr",
     "output_type": "stream",
     "text": [
      "/var/folders/dk/f9pbhbp52qxc0613mpbtx8lm0000gn/T/ipykernel_13488/639159013.py:1: DtypeWarning: Columns (7) have mixed types. Specify dtype option on import or set low_memory=False.\n",
      "  dd2 = pd.read_csv('/Users/isisromero/desktop/dd.csv', index_col='datetime')\n"
     ]
    }
   ],
   "source": [
    "dd2 = pd.read_csv('/Users/isisromero/desktop/dd.csv', index_col='datetime')"
   ]
  },
  {
   "cell_type": "markdown",
   "id": "36ddf6a1-8a3b-42b8-80a5-8eb7f8bb3a1e",
   "metadata": {},
   "source": [
    "#### Exporting Excel"
   ]
  },
  {
   "cell_type": "code",
   "execution_count": 11,
   "id": "43f91a5c-0dbb-498e-9627-62e13d85d12c",
   "metadata": {},
   "outputs": [],
   "source": [
    "# # Time-Zone Raised Error\n",
    "# dd.to_excel('/Users/isisromero/desktop/dd.xlsx')"
   ]
  },
  {
   "cell_type": "code",
   "execution_count": 14,
   "id": "790eb1d8-6cb4-4568-a7ed-88942d9bc142",
   "metadata": {},
   "outputs": [],
   "source": [
    "# Stripping Time-Zone\n",
    "(dd\n",
    " .reset_index()\n",
    " .assign(datetime=lambda df_: df_.datetime.dt.tz_convert(tz=None))\n",
    " .set_index('datetime')\n",
    " .to_excel('/Users/isisromero/desktop/dd2.xlsx')\n",
    ")"
   ]
  },
  {
   "cell_type": "code",
   "execution_count": 16,
   "id": "06d0bd16-ac50-42b5-bfbe-abb0cb874bfa",
   "metadata": {},
   "outputs": [],
   "source": [
    "# writer = pd.ExcelWriter('/tmp/dd2.xlsx')\n",
    "# dd2 = (dd    \n",
    "#  .reset_index()\n",
    "#  .assign(datetime=lambda df_: df_.datetime.dt.tz_convert(tz=None))\n",
    "#  .set_index('datetime')\n",
    "# )\n",
    "# (dd2      # doctest: +SKIP\n",
    "#  .loc['2010':'2010-12-31']\n",
    "#  .to_excel(writer, sheet_name='2010')\n",
    "# )\n",
    "# (dd2     # doctest: +SKIP\n",
    "#  .loc['2011':'2011-12-31'] \n",
    "#  .to_excel(writer, sheet_name='2011')\n",
    "# )\n",
    "# writer.save()      "
   ]
  },
  {
   "cell_type": "markdown",
   "id": "3178dda3-742b-4c16-adf0-c93eb79a6d13",
   "metadata": {},
   "source": [
    "#### Feather"
   ]
  },
  {
   "cell_type": "code",
   "execution_count": 17,
   "id": "20817da4-6abd-4795-bd55-79c159766dc9",
   "metadata": {},
   "outputs": [],
   "source": [
    "dd.to_feather('/Users/isisromero/desktop/dd.fea')"
   ]
  },
  {
   "cell_type": "code",
   "execution_count": 19,
   "id": "65e245e9-a961-484d-9d6f-e26dd100c779",
   "metadata": {},
   "outputs": [],
   "source": [
    "(dd\n",
    " .reset_index()\n",
    " .to_feather('/Users/isisromero/desktop/dd.fea')\n",
    ")"
   ]
  },
  {
   "cell_type": "code",
   "execution_count": 20,
   "id": "3425d738-39b7-4611-babd-4e8fcfd8d2ee",
   "metadata": {},
   "outputs": [
    {
     "data": {
      "text/plain": [
       "True"
      ]
     },
     "execution_count": 20,
     "metadata": {},
     "output_type": "execute_result"
    }
   ],
   "source": [
    "dd2 = pd.read_feather('/Users/isisromero/desktop/dd.fea')\n",
    "dd2.set_index('datetime').equals(dd)"
   ]
  },
  {
   "cell_type": "markdown",
   "id": "f83be919-b890-4755-8d70-bc912bf600b2",
   "metadata": {},
   "source": [
    "#### SQL"
   ]
  },
  {
   "cell_type": "code",
   "execution_count": 21,
   "id": "729236ad-6ff2-4024-8061-d5687a9b7ed8",
   "metadata": {},
   "outputs": [
    {
     "data": {
      "text/plain": [
       "539305"
      ]
     },
     "execution_count": 21,
     "metadata": {},
     "output_type": "execute_result"
    }
   ],
   "source": [
    "import sqlite3\n",
    "con = sqlite3.connect('dd.db')\n",
    "dd.to_sql('dd', con, if_exists='replace')  "
   ]
  },
  {
   "cell_type": "code",
   "execution_count": 32,
   "id": "f2c5d079-1a8f-4da9-a41b-04bba8de9e5b",
   "metadata": {},
   "outputs": [
    {
     "data": {
      "text/plain": [
       "False"
      ]
     },
     "execution_count": 32,
     "metadata": {},
     "output_type": "execute_result"
    }
   ],
   "source": [
    "import sqlalchemy as sa\n",
    "eng = sa.create_engine('sqlite:///dd.db')\n",
    "sa_con = eng.connect()\n",
    "dd2 = pd.read_sql('dd', sa_con, index_col='datetime')  \n",
    "dd2.equals(dd)  "
   ]
  },
  {
   "cell_type": "code",
   "execution_count": 33,
   "id": "b1afb550-c747-4af5-9d7d-098c3825a6ea",
   "metadata": {},
   "outputs": [
    {
     "data": {
      "text/html": [
       "<div>\n",
       "<style scoped>\n",
       "    .dataframe tbody tr th:only-of-type {\n",
       "        vertical-align: middle;\n",
       "    }\n",
       "\n",
       "    .dataframe tbody tr th {\n",
       "        vertical-align: top;\n",
       "    }\n",
       "\n",
       "    .dataframe thead th {\n",
       "        text-align: right;\n",
       "    }\n",
       "</style>\n",
       "<table border=\"1\" class=\"dataframe\">\n",
       "  <thead>\n",
       "    <tr style=\"text-align: right;\">\n",
       "      <th></th>\n",
       "      <th>agency_cd</th>\n",
       "      <th>site_no</th>\n",
       "      <th>tz_cd</th>\n",
       "      <th>cfs</th>\n",
       "      <th>144166_00060_cd</th>\n",
       "      <th>gage_height</th>\n",
       "      <th>144167_00065_cd</th>\n",
       "    </tr>\n",
       "    <tr>\n",
       "      <th>datetime</th>\n",
       "      <th></th>\n",
       "      <th></th>\n",
       "      <th></th>\n",
       "      <th></th>\n",
       "      <th></th>\n",
       "      <th></th>\n",
       "      <th></th>\n",
       "    </tr>\n",
       "  </thead>\n",
       "  <tbody>\n",
       "    <tr>\n",
       "      <th>2001-05-07 01:00:00-06:00</th>\n",
       "      <td>USGS</td>\n",
       "      <td>9333500</td>\n",
       "      <td>MDT</td>\n",
       "      <td>71.00</td>\n",
       "      <td>A:[91]</td>\n",
       "      <td>NaN</td>\n",
       "      <td>None</td>\n",
       "    </tr>\n",
       "    <tr>\n",
       "      <th>2001-05-07 01:15:00-06:00</th>\n",
       "      <td>USGS</td>\n",
       "      <td>9333500</td>\n",
       "      <td>MDT</td>\n",
       "      <td>71.00</td>\n",
       "      <td>A:[91]</td>\n",
       "      <td>NaN</td>\n",
       "      <td>None</td>\n",
       "    </tr>\n",
       "    <tr>\n",
       "      <th>2001-05-07 01:30:00-06:00</th>\n",
       "      <td>USGS</td>\n",
       "      <td>9333500</td>\n",
       "      <td>MDT</td>\n",
       "      <td>71.00</td>\n",
       "      <td>A:[91]</td>\n",
       "      <td>NaN</td>\n",
       "      <td>None</td>\n",
       "    </tr>\n",
       "    <tr>\n",
       "      <th>2001-05-07 01:45:00-06:00</th>\n",
       "      <td>USGS</td>\n",
       "      <td>9333500</td>\n",
       "      <td>MDT</td>\n",
       "      <td>70.00</td>\n",
       "      <td>A:[91]</td>\n",
       "      <td>NaN</td>\n",
       "      <td>None</td>\n",
       "    </tr>\n",
       "    <tr>\n",
       "      <th>2001-05-07 02:00:00-06:00</th>\n",
       "      <td>USGS</td>\n",
       "      <td>9333500</td>\n",
       "      <td>MDT</td>\n",
       "      <td>70.00</td>\n",
       "      <td>A:[91]</td>\n",
       "      <td>NaN</td>\n",
       "      <td>None</td>\n",
       "    </tr>\n",
       "    <tr>\n",
       "      <th>...</th>\n",
       "      <td>...</td>\n",
       "      <td>...</td>\n",
       "      <td>...</td>\n",
       "      <td>...</td>\n",
       "      <td>...</td>\n",
       "      <td>...</td>\n",
       "      <td>...</td>\n",
       "    </tr>\n",
       "    <tr>\n",
       "      <th>2020-09-28 08:30:00-06:00</th>\n",
       "      <td>USGS</td>\n",
       "      <td>9333500</td>\n",
       "      <td>MDT</td>\n",
       "      <td>9.53</td>\n",
       "      <td>P</td>\n",
       "      <td>6.16</td>\n",
       "      <td>P</td>\n",
       "    </tr>\n",
       "    <tr>\n",
       "      <th>2020-09-28 08:45:00-06:00</th>\n",
       "      <td>USGS</td>\n",
       "      <td>9333500</td>\n",
       "      <td>MDT</td>\n",
       "      <td>9.20</td>\n",
       "      <td>P</td>\n",
       "      <td>6.15</td>\n",
       "      <td>P</td>\n",
       "    </tr>\n",
       "    <tr>\n",
       "      <th>2020-09-28 09:00:00-06:00</th>\n",
       "      <td>USGS</td>\n",
       "      <td>9333500</td>\n",
       "      <td>MDT</td>\n",
       "      <td>9.20</td>\n",
       "      <td>P</td>\n",
       "      <td>6.15</td>\n",
       "      <td>P</td>\n",
       "    </tr>\n",
       "    <tr>\n",
       "      <th>2020-09-28 09:15:00-06:00</th>\n",
       "      <td>USGS</td>\n",
       "      <td>9333500</td>\n",
       "      <td>MDT</td>\n",
       "      <td>9.20</td>\n",
       "      <td>P</td>\n",
       "      <td>6.15</td>\n",
       "      <td>P</td>\n",
       "    </tr>\n",
       "    <tr>\n",
       "      <th>2020-09-28 09:30:00-06:00</th>\n",
       "      <td>USGS</td>\n",
       "      <td>9333500</td>\n",
       "      <td>MDT</td>\n",
       "      <td>9.20</td>\n",
       "      <td>P</td>\n",
       "      <td>6.15</td>\n",
       "      <td>P</td>\n",
       "    </tr>\n",
       "  </tbody>\n",
       "</table>\n",
       "<p>539305 rows × 7 columns</p>\n",
       "</div>"
      ],
      "text/plain": [
       "                          agency_cd  site_no tz_cd    cfs 144166_00060_cd  \\\n",
       "datetime                                                                    \n",
       "2001-05-07 01:00:00-06:00      USGS  9333500   MDT  71.00          A:[91]   \n",
       "2001-05-07 01:15:00-06:00      USGS  9333500   MDT  71.00          A:[91]   \n",
       "2001-05-07 01:30:00-06:00      USGS  9333500   MDT  71.00          A:[91]   \n",
       "2001-05-07 01:45:00-06:00      USGS  9333500   MDT  70.00          A:[91]   \n",
       "2001-05-07 02:00:00-06:00      USGS  9333500   MDT  70.00          A:[91]   \n",
       "...                             ...      ...   ...    ...             ...   \n",
       "2020-09-28 08:30:00-06:00      USGS  9333500   MDT   9.53               P   \n",
       "2020-09-28 08:45:00-06:00      USGS  9333500   MDT   9.20               P   \n",
       "2020-09-28 09:00:00-06:00      USGS  9333500   MDT   9.20               P   \n",
       "2020-09-28 09:15:00-06:00      USGS  9333500   MDT   9.20               P   \n",
       "2020-09-28 09:30:00-06:00      USGS  9333500   MDT   9.20               P   \n",
       "\n",
       "                           gage_height 144167_00065_cd  \n",
       "datetime                                                \n",
       "2001-05-07 01:00:00-06:00          NaN            None  \n",
       "2001-05-07 01:15:00-06:00          NaN            None  \n",
       "2001-05-07 01:30:00-06:00          NaN            None  \n",
       "2001-05-07 01:45:00-06:00          NaN            None  \n",
       "2001-05-07 02:00:00-06:00          NaN            None  \n",
       "...                                ...             ...  \n",
       "2020-09-28 08:30:00-06:00         6.16               P  \n",
       "2020-09-28 08:45:00-06:00         6.15               P  \n",
       "2020-09-28 09:00:00-06:00         6.15               P  \n",
       "2020-09-28 09:15:00-06:00         6.15               P  \n",
       "2020-09-28 09:30:00-06:00         6.15               P  \n",
       "\n",
       "[539305 rows x 7 columns]"
      ]
     },
     "execution_count": 33,
     "metadata": {},
     "output_type": "execute_result"
    }
   ],
   "source": [
    "dd2"
   ]
  },
  {
   "cell_type": "code",
   "execution_count": 34,
   "id": "4ad87d64-3087-4c45-bc85-98a5bfb1f65a",
   "metadata": {},
   "outputs": [
    {
     "data": {
      "text/plain": [
       "False"
      ]
     },
     "execution_count": 34,
     "metadata": {},
     "output_type": "execute_result"
    }
   ],
   "source": [
    "(dd2\n",
    " .reset_index()\n",
    " .assign(datetime=lambda df_: df_.datetime\n",
    "       .dt.tz_convert('America/Denver'))\n",
    " .set_index('datetime')\n",
    " .equals(dd)\n",
    ")"
   ]
  },
  {
   "cell_type": "markdown",
   "id": "f15e1ed1-c829-47aa-85e5-c4b9752eff8d",
   "metadata": {},
   "source": [
    "#### JSON"
   ]
  },
  {
   "cell_type": "code",
   "execution_count": 36,
   "id": "6e7b4a89-8e9c-49a1-aebd-28d92ed3ffe9",
   "metadata": {},
   "outputs": [],
   "source": [
    "obj = dd.to_dict()"
   ]
  },
  {
   "cell_type": "code",
   "execution_count": 37,
   "id": "a87543a1-6d0c-45e7-ab87-7c70cf4f49cc",
   "metadata": {},
   "outputs": [
    {
     "data": {
      "text/plain": [
       "True"
      ]
     },
     "execution_count": 37,
     "metadata": {},
     "output_type": "execute_result"
    }
   ],
   "source": [
    "dd2 = pd.DataFrame.from_dict(obj)\n",
    "dd.equals(dd2)"
   ]
  },
  {
   "cell_type": "code",
   "execution_count": 38,
   "id": "998ee5f0-1825-428a-8df6-fd4ba85e775c",
   "metadata": {},
   "outputs": [],
   "source": [
    "dd.to_json('/Users/isisromero/desktop/dd.json.gz')"
   ]
  },
  {
   "cell_type": "code",
   "execution_count": 40,
   "id": "6d11e790-62f2-4205-a01c-d43db1125b7e",
   "metadata": {},
   "outputs": [],
   "source": [
    "# dd2 = pd.read_json('/Users/isisromero/desktop/dd.json')\n",
    "# dd2"
   ]
  },
  {
   "cell_type": "code",
   "execution_count": 42,
   "id": "ac3585fd-723b-4284-b4e6-2fc504cc2976",
   "metadata": {},
   "outputs": [],
   "source": [
    "# dd2.equals(dd)"
   ]
  },
  {
   "cell_type": "code",
   "execution_count": 44,
   "id": "4c1fde93-a164-4de2-8ce8-b6867bf71fb5",
   "metadata": {},
   "outputs": [],
   "source": [
    "# dd3 = (dd2\n",
    "#  .reset_index()\n",
    "#  .rename(columns={'index':'datetime'})\n",
    "#  .assign(datetime=lambda df_: df_.datetime.dt.tz_localize(tz='UTC')\n",
    "#          .dt.tz_convert('America/Denver'))\n",
    "#  .set_index('datetime')\n",
    "# )"
   ]
  },
  {
   "cell_type": "code",
   "execution_count": 45,
   "id": "2321dd49-7054-4af5-a51a-293c3f4f7575",
   "metadata": {},
   "outputs": [],
   "source": [
    "# dd3"
   ]
  },
  {
   "cell_type": "code",
   "execution_count": 46,
   "id": "64ab169a-7bff-4c50-ab59-f2e61f4699dc",
   "metadata": {},
   "outputs": [],
   "source": [
    "# dd3.equals(dd)"
   ]
  },
  {
   "cell_type": "code",
   "execution_count": 47,
   "id": "e090fcfb-04b6-46d0-af0b-c1416da2a583",
   "metadata": {},
   "outputs": [],
   "source": [
    "# dd3.round(3).equals(dd)"
   ]
  },
  {
   "cell_type": "code",
   "execution_count": 48,
   "id": "4e687ab1-34c1-4ff7-b049-8cebf6026778",
   "metadata": {},
   "outputs": [],
   "source": [
    "# dd.head()"
   ]
  },
  {
   "cell_type": "code",
   "execution_count": 49,
   "id": "e3c04fc1-5397-4212-ade3-bb83247e1b2a",
   "metadata": {},
   "outputs": [],
   "source": [
    "# dd.head().to_json()[:60]"
   ]
  }
 ],
 "metadata": {
  "kernelspec": {
   "display_name": "Python 3 (ipykernel)",
   "language": "python",
   "name": "python3"
  },
  "language_info": {
   "codemirror_mode": {
    "name": "ipython",
    "version": 3
   },
   "file_extension": ".py",
   "mimetype": "text/x-python",
   "name": "python",
   "nbconvert_exporter": "python",
   "pygments_lexer": "ipython3",
   "version": "3.11.7"
  }
 },
 "nbformat": 4,
 "nbformat_minor": 5
}
